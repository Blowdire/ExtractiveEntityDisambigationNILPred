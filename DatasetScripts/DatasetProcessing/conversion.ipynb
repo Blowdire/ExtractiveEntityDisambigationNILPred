{
 "cells": [
  {
   "cell_type": "code",
   "execution_count": 2,
   "metadata": {},
   "outputs": [
    {
     "ename": "KeyError",
     "evalue": "'input'",
     "output_type": "error",
     "traceback": [
      "\u001b[0;31m---------------------------------------------------------------------------\u001b[0m",
      "\u001b[0;31mKeyError\u001b[0m                                  Traceback (most recent call last)",
      "Cell \u001b[0;32mIn[2], line 12\u001b[0m\n\u001b[1;32m     10\u001b[0m json_array \u001b[39m=\u001b[39m json\u001b[39m.\u001b[39mloads(line)\n\u001b[1;32m     11\u001b[0m newObject \u001b[39m=\u001b[39m {}\n\u001b[0;32m---> 12\u001b[0m newObject[\u001b[39m\"\u001b[39m\u001b[39mcontext\u001b[39m\u001b[39m\"\u001b[39m] \u001b[39m=\u001b[39m json_array[\u001b[39m\"\u001b[39;49m\u001b[39minput\u001b[39;49m\u001b[39m\"\u001b[39;49m]\n\u001b[1;32m     13\u001b[0m newObject[\u001b[39m\"\u001b[39m\u001b[39mquestion\u001b[39m\u001b[39m\"\u001b[39m] \u001b[39m=\u001b[39m \u001b[39m\"\u001b[39m\u001b[39m\"\u001b[39m\n\u001b[1;32m     14\u001b[0m \u001b[39mfor\u001b[39;00m candidate \u001b[39min\u001b[39;00m json_array[\u001b[39m\"\u001b[39m\u001b[39mcandidates\u001b[39m\u001b[39m\"\u001b[39m]:\n",
      "\u001b[0;31mKeyError\u001b[0m: 'input'"
     ]
    }
   ],
   "source": [
    "import json\n",
    "\n",
    "# Replace 'your_file.jsonl' with the path to your JSONL file\n",
    "file_path = \"train_converted_enriched.jsonl\"\n",
    "\n",
    "train_data = []\n",
    "with open(file_path, \"r\") as file:\n",
    "    for line in file:\n",
    "        # Load each line as a JSON object\n",
    "        json_array = json.loads(line)\n",
    "        newObject = {}\n",
    "        newObject[\"context\"] = json_array[\"input\"]\n",
    "        newObject[\"question\"] = \"\"\n",
    "        for candidate in json_array[\"candidates\"]:\n",
    "            newObject[\"question\"] += candidate + \" </ec> \"\n",
    "        newObject[\"question\"] += \" NIL </ec>\"\n",
    "        newObject[\"answers\"] = {\n",
    "            \"answer_start\": [\n",
    "                newObject[\"question\"].find(json_array[\"output\"][0][\"answer\"])\n",
    "            ],\n",
    "            \"text\": [json_array[\"output\"][0][\"answer\"]],\n",
    "        }\n",
    "\n",
    "        train_data.append(newObject)\n",
    "\n",
    "with open(f\"{file_path}_converted.aida\", \"w\") as f:\n",
    "    f.write(json.dumps(train_data) + \"\\n\")"
   ]
  }
 ],
 "metadata": {
  "kernelspec": {
   "display_name": "Python 3",
   "language": "python",
   "name": "python3"
  },
  "language_info": {
   "codemirror_mode": {
    "name": "ipython",
    "version": 3
   },
   "file_extension": ".py",
   "mimetype": "text/x-python",
   "name": "python",
   "nbconvert_exporter": "python",
   "pygments_lexer": "ipython3",
   "version": "3.10.12"
  },
  "orig_nbformat": 4
 },
 "nbformat": 4,
 "nbformat_minor": 2
}

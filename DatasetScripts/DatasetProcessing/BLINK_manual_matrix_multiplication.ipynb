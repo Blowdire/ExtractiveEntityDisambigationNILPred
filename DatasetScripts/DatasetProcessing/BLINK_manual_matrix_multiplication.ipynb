{
 "cells": [
  {
   "cell_type": "code",
   "execution_count": 1,
   "id": "829ad092-7474-4461-90f6-a45f97dbe309",
   "metadata": {},
   "outputs": [
    {
     "name": "stderr",
     "output_type": "stream",
     "text": [
      "/usr/lib/python3/dist-packages/requests/__init__.py:87: RequestsDependencyWarning: urllib3 (2.0.4) or chardet (4.0.0) doesn't match a supported version!\n",
      "  warnings.warn(\"urllib3 ({}) or chardet ({}) doesn't match a supported \"\n"
     ]
    }
   ],
   "source": [
    "import requests\n",
    "import numpy as np\n",
    "import base64\n",
    "import os\n",
    "import json\n",
    "from tqdm import tqdm\n",
    "import joblib\n",
    "def vector_decode(s, dtype=np.float32):\n",
    "    buffer = base64.b64decode(s)\n",
    "    v = np.frombuffer(buffer, dtype=dtype)\n",
    "    return v"
   ]
  },
  {
   "cell_type": "code",
   "execution_count": 2,
   "id": "cf0936e1",
   "metadata": {},
   "outputs": [],
   "source": [
    "basePath = \"./Datasets/zeshel/documentsTest/\"\n",
    "\n",
    "def load_corpuses():\n",
    "    corpuses = os.listdir(basePath)\n",
    "    corpusesDict = {}\n",
    "    for corpus in corpuses:\n",
    "        data = []\n",
    "        with open(basePath + corpus, \"r\", encoding=\"utf-8\") as file:\n",
    "            for line in file:\n",
    "                data.append(json.loads(line))\n",
    "        corpusesDict[corpus.replace(\".json\", \"\")] = data\n",
    "    return corpusesDict"
   ]
  },
  {
   "cell_type": "code",
   "execution_count": 3,
   "id": "fb098904",
   "metadata": {},
   "outputs": [],
   "source": [
    "corpuses = load_corpuses()"
   ]
  },
  {
   "cell_type": "code",
   "execution_count": 4,
   "id": "c855a8b9",
   "metadata": {},
   "outputs": [],
   "source": [
    "entities = []\n",
    "for key in corpuses.keys():\n",
    "    currentCorpus = corpuses[key]\n",
    "    for corpusItem in currentCorpus:\n",
    "        entities.append({\"title\": corpusItem[\"title\"], \"descr\": corpusItem[\"text\"]})"
   ]
  },
  {
   "cell_type": "code",
   "execution_count": 5,
   "id": "04375e93",
   "metadata": {},
   "outputs": [
    {
     "data": {
      "text/plain": [
       "70140"
      ]
     },
     "execution_count": 5,
     "metadata": {},
     "output_type": "execute_result"
    }
   ],
   "source": [
    "len(entities)"
   ]
  },
  {
   "cell_type": "code",
   "execution_count": 8,
   "id": "f742b51c",
   "metadata": {},
   "outputs": [],
   "source": [
    "from requests.auth import HTTPBasicAuth\n",
    "\n",
    "auth = HTTPBasicAuth(\"DS2023\", \"eexeegheichai3OhChi5AhcheecaaShe\")"
   ]
  },
  {
   "cell_type": "code",
   "execution_count": 2,
   "id": "65dbd419-d264-4bde-b9c3-2ba15587d9a6",
   "metadata": {},
   "outputs": [],
   "source": [
    "mentions = [\n",
    "    {\"context_left\": \"oggi\", \"mention\":\"Milano\", \"context_right\":\"lavoro\"},\n",
    "    {\"context_left\": \"domain\", \"mention\":\"Roma\", \"context_right\":\"vacanza\"},\n",
    "    {\"context_left\": \"ho visto il\", \"mention\":\"cane\", \"context_right\":\"che abbaiava\"},\n",
    "]"
   ]
  },
  {
   "cell_type": "code",
   "execution_count": 13,
   "id": "89f33156",
   "metadata": {},
   "outputs": [
    {
     "name": "stderr",
     "output_type": "stream",
     "text": [
      "100%|██████████| 70140/70140 [32:03<00:00, 36.47it/s]\n"
     ]
    }
   ],
   "source": [
    "tempEnts = []\n",
    "encodedEnts = []\n",
    "for entity in tqdm(entities):\n",
    "    if len(tempEnts) < 100:\n",
    "        tempEnts.append(entity)\n",
    "    else:\n",
    "        res_mentions = requests.post(\n",
    "            \"http://localhost:20980/api/blink/biencoder/entity\",\n",
    "            json=tempEnts,\n",
    "            auth=auth,\n",
    "        )\n",
    "        entities_embedding = np.array(\n",
    "            list(map(vector_decode, res_mentions.json()[\"encodings\"]))\n",
    "        )\n",
    "        encodedEnts.extend(entities_embedding)\n",
    "        tempEnts = []"
   ]
  },
  {
   "cell_type": "code",
   "execution_count": 14,
   "id": "d720ef10",
   "metadata": {},
   "outputs": [
    {
     "data": {
      "text/plain": [
       "['./Datasets/zeshel/encodedEntsTest.joblib']"
      ]
     },
     "execution_count": 14,
     "metadata": {},
     "output_type": "execute_result"
    }
   ],
   "source": [
    "joblib.dump(encodedEnts, \"./Datasets/zeshel/encodedEntsTest.joblib\")"
   ]
  },
  {
   "cell_type": "code",
   "execution_count": 15,
   "id": "0c9c5d4a",
   "metadata": {},
   "outputs": [],
   "source": [
    "with open('./zeshel-conv.json', \"r\", encoding=\"utf-8\") as file:\n",
    "    # read file lines\n",
    "    zeshelDs = json.load(file)"
   ]
  },
  {
   "cell_type": "code",
   "execution_count": 15,
   "id": "2105d04e",
   "metadata": {},
   "outputs": [
    {
     "data": {
      "text/plain": [
       "{'id': 0,\n",
       " 'input': \"Larynda Telenna Larynda Telenna was the high priestess of Kiaransalee in the [START_ENT] Vault of Gnashing Teeth [END_ENT] beneath Vaasa . She was also the leader of Kiaransalee ' s cult across the entirety of Faerûn . History . In 1337 DR , Larynda Telenna brought with her a group of acolytes who aided her in constructing the Acropolis of Thanatos in the ruins of the city V ' elddrinnsshar . Among those who resided with her in the Vault of Gnashing Teeth was the keening spirit Gurden Myrinn .\",\n",
       " 'output': [{'answer': 'Moondeep Sea',\n",
       "   'provenance': [{'title': 'Moondeep Sea'}]}],\n",
       " 'meta': {'left_context': 'Larynda Telenna Larynda Telenna was the high priestess of Kiaransalee in the',\n",
       "  'right_context': \"beneath Vaasa . She was also the leader of Kiaransalee ' s cult across the entirety of Faerûn . History . In 1337 DR , Larynda Telenna brought with her a group of acolytes who aided her in constructing the Acropolis of Thanatos in the ruins of the city V ' elddrinnsshar . Among those who resided with her in the Vault of Gnashing Teeth was the keening spirit Gurden Myrinn .\",\n",
       "  'mention': 'Vault of Gnashing Teeth'},\n",
       " 'candidates': [],\n",
       " 'answer': \"Moondeep Sea The Moondeep Sea was a subterranean lake approximately 240 miles ( 386 km ) wide found in the Underdark beneath the Galena Mountains . Geography . The cavern which contained it was known as the Vault of Gnashing Teeth , so named for the countless animated skulls stuck to the cavern ' s ceiling . The Moondeep Sea was known for its giant aquatic spider s and the city of V ' elddrinnsshar , which lay on a mile - wide island dominated by a plateau in the middle of the lake .\"}"
      ]
     },
     "execution_count": 15,
     "metadata": {},
     "output_type": "execute_result"
    }
   ],
   "source": [
    "zeshelDs[0]"
   ]
  },
  {
   "cell_type": "code",
   "execution_count": 16,
   "id": "f843f574",
   "metadata": {},
   "outputs": [],
   "source": [
    "mentions = [\n",
    "    {\n",
    "        \"mention\": mention[\"meta\"][\"mention\"],\n",
    "        \"context_left\": mention[\"meta\"][\"left_context\"],\n",
    "        \"context_right\": mention[\"meta\"][\"right_context\"],\n",
    "        \"answer\": mention[\"output\"][0][\"answer\"],\n",
    "        \"output\": mention[\"output\"][0][\"output\"],\n",
    "        \"input\": mention[\"input\"],\n",
    "    }\n",
    "    for mention in zeshelDs\n",
    "]"
   ]
  },
  {
   "cell_type": "code",
   "execution_count": 18,
   "id": "49f62898",
   "metadata": {},
   "outputs": [
    {
     "data": {
      "text/plain": [
       "{'mention': 'Vault of Gnashing Teeth',\n",
       " 'context_left': 'Larynda Telenna Larynda Telenna was the high priestess of Kiaransalee in the',\n",
       " 'context_right': \"beneath Vaasa . She was also the leader of Kiaransalee ' s cult across the entirety of Faerûn . History . In 1337 DR , Larynda Telenna brought with her a group of acolytes who aided her in constructing the Acropolis of Thanatos in the ruins of the city V ' elddrinnsshar . Among those who resided with her in the Vault of Gnashing Teeth was the keening spirit Gurden Myrinn .\"}"
      ]
     },
     "execution_count": 18,
     "metadata": {},
     "output_type": "execute_result"
    }
   ],
   "source": [
    "mentions[0]"
   ]
  },
  {
   "cell_type": "code",
   "execution_count": 19,
   "id": "771a8117",
   "metadata": {},
   "outputs": [
    {
     "name": "stderr",
     "output_type": "stream",
     "text": [
      "100%|██████████| 10000/10000 [01:23<00:00, 119.47it/s]\n"
     ]
    }
   ],
   "source": [
    "tempMents = []\n",
    "encodedMents = []\n",
    "for mention in tqdm(mentions):\n",
    "    if len(tempMents) < 100:\n",
    "        tempMents.append(mention)\n",
    "    else:\n",
    "        res_mentions = requests.post(\n",
    "            \"http://localhost:20980/api/blink/biencoder/mention\", json=tempMents\n",
    "        )\n",
    "        mentions_embedding = np.array(\n",
    "            list(map(vector_decode, res_mentions.json()[\"encodings\"]))\n",
    "        )\n",
    "        encodedMents.extend(mentions_embedding)\n",
    "        tempMents = []"
   ]
  },
  {
   "cell_type": "code",
   "execution_count": 20,
   "id": "b4df8558",
   "metadata": {},
   "outputs": [
    {
     "data": {
      "text/plain": [
       "['./Datasets/zeshel/encodedMentsTest.joblib']"
      ]
     },
     "execution_count": 20,
     "metadata": {},
     "output_type": "execute_result"
    }
   ],
   "source": [
    "joblib.dump(encodedMents, \"./Datasets/zeshel/encodedMentsTest.joblib\")"
   ]
  },
  {
   "cell_type": "code",
   "execution_count": 45,
   "id": "410fcd63-5cad-443e-b013-a33eb76781d2",
   "metadata": {},
   "outputs": [],
   "source": [
    "res_mentions = requests.post('http://localhost:20980/api/blink/biencoder/mention', json=mentions)"
   ]
  },
  {
   "cell_type": "code",
   "execution_count": 47,
   "id": "4b0fbd68-4ad3-40c2-8157-7bd711bf5512",
   "metadata": {},
   "outputs": [],
   "source": [
    "#res_mentions.json()"
   ]
  },
  {
   "cell_type": "code",
   "execution_count": 48,
   "id": "a8adbe8e-bb72-4c3c-a66e-a892fcba5376",
   "metadata": {},
   "outputs": [],
   "source": [
    "entities = [\n",
    "    {'title': 'gianfranco', 'descr': 'avvocato'},\n",
    "    {'title': 'dobby', 'descr': 'cane labrador'},\n",
    "]"
   ]
  },
  {
   "cell_type": "code",
   "execution_count": 49,
   "id": "ed8abc2f-3c42-45f1-af7b-34cf3c11216f",
   "metadata": {},
   "outputs": [],
   "source": [
    "res_mentions = requests.post('http://localhost:20980/api/blink/biencoder/entity', json=entities)"
   ]
  },
  {
   "cell_type": "code",
   "execution_count": 51,
   "id": "f0529436-cb79-4c83-bef7-978cc894391f",
   "metadata": {},
   "outputs": [
    {
     "data": {
      "text/plain": [
       "array([[ 0.07842703,  0.07131317,  0.00129652, ..., -0.03120706,\n",
       "        -0.19704019,  0.02340733],\n",
       "       [ 0.14617996,  0.12868266,  0.05573903, ...,  0.04600737,\n",
       "        -0.21320432,  0.00834524],\n",
       "       [ 0.14868711, -0.11198566,  0.0330006 , ...,  0.07524123,\n",
       "        -0.05477954,  0.01567708]], dtype=float32)"
      ]
     },
     "execution_count": 51,
     "metadata": {},
     "output_type": "execute_result"
    }
   ],
   "source": [
    "mentions_embedding = np.array(list(map(vector_decode, res_mentions.json()['encodings'])))\n",
    "mentions_embedding"
   ]
  },
  {
   "cell_type": "code",
   "execution_count": 52,
   "id": "91ff1291-7969-4c93-b330-56aafb683515",
   "metadata": {},
   "outputs": [
    {
     "data": {
      "text/plain": [
       "(3, 1024)"
      ]
     },
     "execution_count": 52,
     "metadata": {},
     "output_type": "execute_result"
    }
   ],
   "source": [
    "mentions_embedding.shape"
   ]
  },
  {
   "cell_type": "code",
   "execution_count": 53,
   "id": "3c5b1355-bd8c-46b6-81fa-176df846080a",
   "metadata": {},
   "outputs": [
    {
     "data": {
      "text/plain": [
       "array([[-0.01721451,  0.22309886,  0.07597879, ..., -0.07587761,\n",
       "        -0.23545255, -0.22782443],\n",
       "       [ 0.19822957,  0.13209286,  0.07052226, ..., -0.2937744 ,\n",
       "        -0.2015146 ,  0.16102695]], dtype=float32)"
      ]
     },
     "execution_count": 53,
     "metadata": {},
     "output_type": "execute_result"
    }
   ],
   "source": [
    "entity_embedding = np.array(list(map(vector_decode, res_mentions.json()['encodings'])))\n",
    "entity_embedding"
   ]
  },
  {
   "cell_type": "code",
   "execution_count": 54,
   "id": "352250b7-5130-4c95-b7f0-bbea7f7f2fd9",
   "metadata": {},
   "outputs": [
    {
     "data": {
      "text/plain": [
       "(2, 1024)"
      ]
     },
     "execution_count": 54,
     "metadata": {},
     "output_type": "execute_result"
    }
   ],
   "source": [
    "entity_embedding.shape"
   ]
  },
  {
   "cell_type": "code",
   "execution_count": 61,
   "id": "2fb91d97-83e5-495f-ae58-4ea933b382ba",
   "metadata": {},
   "outputs": [],
   "source": [
    "linking_pred_ids = mentions_embedding.dot(entity_embedding.T).argmax(1)"
   ]
  },
  {
   "cell_type": "code",
   "execution_count": 68,
   "id": "e0339c0e-50c3-4c82-b1c5-829fdec6275b",
   "metadata": {},
   "outputs": [
    {
     "data": {
      "text/plain": [
       "[{'title': 'gianfranco', 'descr': 'avvocato'},\n",
       " {'title': 'dobby', 'descr': 'cane labrador'},\n",
       " {'title': 'dobby', 'descr': 'cane labrador'}]"
      ]
     },
     "execution_count": 68,
     "metadata": {},
     "output_type": "execute_result"
    }
   ],
   "source": [
    "linking_pred_titles = list(map(lambda x: entities[x], linking_pred_ids))\n",
    "linking_pred_titles"
   ]
  },
  {
   "cell_type": "code",
   "execution_count": 71,
   "id": "a89445a0-17ed-40e1-8341-db89cb07653e",
   "metadata": {},
   "outputs": [
    {
     "name": "stdout",
     "output_type": "stream",
     "text": [
      "oggi [Milano] lavoro\t-->\tgianfranco\n",
      "domain [Roma] vacanza\t-->\tdobby\n",
      "ho visto il [cane] che abbaiava\t-->\tdobby\n"
     ]
    }
   ],
   "source": [
    "for men, ent in zip(mentions, linking_pred_titles):\n",
    "    print('{} [{}] {}\\t-->\\t{}'.format(men['context_left'], men['mention'], men['context_right'], ent['title']))"
   ]
  },
  {
   "cell_type": "code",
   "execution_count": 23,
   "id": "8c236e38-36fd-4966-8c09-f75bc09a3ee6",
   "metadata": {},
   "outputs": [
    {
     "data": {
      "text/plain": [
       "array([[ 2093,  7431,  7883, ...,   876,  4647, 28433],\n",
       "       [51834, 34416, 53796, ..., 42865, 60914, 60287],\n",
       "       [62170, 64528, 56875, ..., 68145, 67380, 61707],\n",
       "       ...,\n",
       "       [41985, 64676, 55877, ..., 48685, 44503, 54490],\n",
       "       [12899, 11992,  6134, ..., 24764, 64311, 33285],\n",
       "       [ 7606,  9606,  3235, ..., 42368,  1954, 51816]])"
      ]
     },
     "execution_count": 23,
     "metadata": {},
     "output_type": "execute_result"
    }
   ],
   "source": [
    "encodedMents = np.array(encodedMents)\n",
    "encodedEnts = np.array(encodedEnts)\n",
    "# primi 100 candidati \n",
    "best_100_entity_ids = np.flip(encodedMents.dot(encodedEnts.T).argsort(1), axis=1)[:, :20]\n",
    "best_100_entity_ids"
   ]
  },
  {
   "cell_type": "code",
   "execution_count": 24,
   "id": "5e88e469-a66b-490e-9d6a-d515b51691fb",
   "metadata": {},
   "outputs": [],
   "source": [
    "best_100_entities = []\n",
    "for row in best_100_entity_ids.tolist():\n",
    "    temp_100_ents = []\n",
    "    for col in row:\n",
    "        temp_100_ents.append(entities[col])\n",
    "    best_100_entities.append(temp_100_ents)\n",
    "        "
   ]
  },
  {
   "cell_type": "code",
   "execution_count": null,
   "id": "417a3030-3aae-44b4-a21d-8a26bb2de774",
   "metadata": {},
   "outputs": [],
   "source": [
    "best_100_entities"
   ]
  },
  {
   "cell_type": "code",
   "execution_count": 29,
   "id": "52d17fc7",
   "metadata": {},
   "outputs": [
    {
     "name": "stderr",
     "output_type": "stream",
     "text": [
      "  0%|          | 0/9900 [00:00<?, ?it/s]"
     ]
    },
    {
     "name": "stderr",
     "output_type": "stream",
     "text": [
      "100%|██████████| 9900/9900 [00:00<00:00, 102474.30it/s]\n"
     ]
    }
   ],
   "source": [
    "index = 0\n",
    "for item in tqdm(best_100_entities):\n",
    "    candidates = []\n",
    "    for entity in item:\n",
    "        candidates.append(entity[\"title\"])\n",
    "    mentions[index][\"candidates\"] = candidates\n",
    "    index += 1"
   ]
  },
  {
   "cell_type": "code",
   "execution_count": 30,
   "id": "42e18380",
   "metadata": {},
   "outputs": [
    {
     "data": {
      "text/plain": [
       "{'mention': 'Vault of Gnashing Teeth',\n",
       " 'context_left': 'Larynda Telenna Larynda Telenna was the high priestess of Kiaransalee in the',\n",
       " 'context_right': \"beneath Vaasa . She was also the leader of Kiaransalee ' s cult across the entirety of Faerûn . History . In 1337 DR , Larynda Telenna brought with her a group of acolytes who aided her in constructing the Acropolis of Thanatos in the ruins of the city V ' elddrinnsshar . Among those who resided with her in the Vault of Gnashing Teeth was the keening spirit Gurden Myrinn .\",\n",
       " 'answer': 'Moondeep Sea',\n",
       " 'input': \"Larynda Telenna Larynda Telenna was the high priestess of Kiaransalee in the [START_ENT] Vault of Gnashing Teeth [END_ENT] beneath Vaasa . She was also the leader of Kiaransalee ' s cult across the entirety of Faerûn . History . In 1337 DR , Larynda Telenna brought with her a group of acolytes who aided her in constructing the Acropolis of Thanatos in the ruins of the city V ' elddrinnsshar . Among those who resided with her in the Vault of Gnashing Teeth was the keening spirit Gurden Myrinn .\",\n",
       " 'candidates': ['Hyena',\n",
       "  'Azoun Obarskyr I',\n",
       "  'Farad al - Meisal',\n",
       "  'Mike Satterfield',\n",
       "  'Hubadai Khahan',\n",
       "  'Deirdre Kendrick',\n",
       "  'Dromond',\n",
       "  'Neverwinter River',\n",
       "  'Qadim Hills',\n",
       "  'Fenris Aghatonn',\n",
       "  'Demihuman',\n",
       "  'Dragon magazine 365',\n",
       "  'Great Dismal Delve',\n",
       "  'Moment of Tension',\n",
       "  'Trifin Creek',\n",
       "  'Forgotten Realms Campaign Guide',\n",
       "  'Businessman',\n",
       "  'Arvin',\n",
       "  'Iron Lord',\n",
       "  'Lillybot']}"
      ]
     },
     "execution_count": 30,
     "metadata": {},
     "output_type": "execute_result"
    }
   ],
   "source": [
    "mentions[0]"
   ]
  },
  {
   "cell_type": "code",
   "execution_count": 31,
   "id": "a0522b84",
   "metadata": {},
   "outputs": [],
   "source": [
    "#dump mentions to json file\n",
    "with open('./zeshel-conv-blink.json', \"w\", encoding=\"utf-8\") as file:\n",
    "    # read file lines\n",
    "    json.dump(mentions, file)"
   ]
  },
  {
   "cell_type": "code",
   "execution_count": 2,
   "id": "239da006",
   "metadata": {},
   "outputs": [
    {
     "data": {
      "text/plain": [
       "{'mention': 'Vault of Gnashing Teeth',\n",
       " 'context_left': 'Larynda Telenna Larynda Telenna was the high priestess of Kiaransalee in the',\n",
       " 'context_right': \"beneath Vaasa . She was also the leader of Kiaransalee ' s cult across the entirety of Faerûn . History . In 1337 DR , Larynda Telenna brought with her a group of acolytes who aided her in constructing the Acropolis of Thanatos in the ruins of the city V ' elddrinnsshar . Among those who resided with her in the Vault of Gnashing Teeth was the keening spirit Gurden Myrinn .\",\n",
       " 'answer': 'Moondeep Sea',\n",
       " 'input': \"Larynda Telenna Larynda Telenna was the high priestess of Kiaransalee in the [START_ENT] Vault of Gnashing Teeth [END_ENT] beneath Vaasa . She was also the leader of Kiaransalee ' s cult across the entirety of Faerûn . History . In 1337 DR , Larynda Telenna brought with her a group of acolytes who aided her in constructing the Acropolis of Thanatos in the ruins of the city V ' elddrinnsshar . Among those who resided with her in the Vault of Gnashing Teeth was the keening spirit Gurden Myrinn .\",\n",
       " 'candidates': ['Hyena',\n",
       "  'Azoun Obarskyr I',\n",
       "  'Farad al - Meisal',\n",
       "  'Mike Satterfield',\n",
       "  'Hubadai Khahan',\n",
       "  'Deirdre Kendrick',\n",
       "  'Dromond',\n",
       "  'Neverwinter River',\n",
       "  'Qadim Hills',\n",
       "  'Fenris Aghatonn',\n",
       "  'Demihuman',\n",
       "  'Dragon magazine 365',\n",
       "  'Great Dismal Delve',\n",
       "  'Moment of Tension',\n",
       "  'Trifin Creek',\n",
       "  'Forgotten Realms Campaign Guide',\n",
       "  'Businessman',\n",
       "  'Arvin',\n",
       "  'Iron Lord',\n",
       "  'Lillybot']}"
      ]
     },
     "execution_count": 2,
     "metadata": {},
     "output_type": "execute_result"
    }
   ],
   "source": [
    "import json\n",
    "# dump mentions to json file\n",
    "with open(\"./zeshel-conv-blink.json\", \"r\", encoding=\"utf-8\") as file:\n",
    "    # read file lines\n",
    "    ds = json.load( file)\n",
    "    \n",
    "ds[0]    "
   ]
  },
  {
   "cell_type": "code",
   "execution_count": 8,
   "id": "01407bdc",
   "metadata": {},
   "outputs": [
    {
     "data": {
      "text/plain": [
       "100"
      ]
     },
     "execution_count": 8,
     "metadata": {},
     "output_type": "execute_result"
    }
   ],
   "source": [
    "import random\n",
    "converted = []\n",
    "errors = 0\n",
    "for item in ds:\n",
    "    try:\n",
    "      if item[\"answer\"] not in item[\"candidates\"]:\n",
    "          #generate a random from 0 to len(candidates)/2\n",
    "          randomIndex = random.randint(0, int(len(item[\"candidates\"])/4))\n",
    "          #insert at random index the answer\n",
    "          item[\"candidates\"].insert(randomIndex, item[\"answer\"])\n",
    "      converted.append(item)\n",
    "    except:\n",
    "        errors += 1\n",
    "\n",
    "errors"
   ]
  },
  {
   "cell_type": "code",
   "execution_count": 7,
   "id": "a6bb52a0",
   "metadata": {},
   "outputs": [
    {
     "data": {
      "text/plain": [
       "{'mention': 'Vault of Gnashing Teeth',\n",
       " 'context_left': 'Larynda Telenna Larynda Telenna was the high priestess of Kiaransalee in the',\n",
       " 'context_right': \"beneath Vaasa . She was also the leader of Kiaransalee ' s cult across the entirety of Faerûn . History . In 1337 DR , Larynda Telenna brought with her a group of acolytes who aided her in constructing the Acropolis of Thanatos in the ruins of the city V ' elddrinnsshar . Among those who resided with her in the Vault of Gnashing Teeth was the keening spirit Gurden Myrinn .\",\n",
       " 'answer': 'Moondeep Sea',\n",
       " 'input': \"Larynda Telenna Larynda Telenna was the high priestess of Kiaransalee in the [START_ENT] Vault of Gnashing Teeth [END_ENT] beneath Vaasa . She was also the leader of Kiaransalee ' s cult across the entirety of Faerûn . History . In 1337 DR , Larynda Telenna brought with her a group of acolytes who aided her in constructing the Acropolis of Thanatos in the ruins of the city V ' elddrinnsshar . Among those who resided with her in the Vault of Gnashing Teeth was the keening spirit Gurden Myrinn .\",\n",
       " 'candidates': ['Hyena',\n",
       "  'Azoun Obarskyr I',\n",
       "  'Farad al - Meisal',\n",
       "  'Mike Satterfield',\n",
       "  'Hubadai Khahan',\n",
       "  'Deirdre Kendrick',\n",
       "  'Dromond',\n",
       "  'Moondeep Sea',\n",
       "  'Neverwinter River',\n",
       "  'Qadim Hills',\n",
       "  'Fenris Aghatonn',\n",
       "  'Demihuman',\n",
       "  'Dragon magazine 365',\n",
       "  'Great Dismal Delve',\n",
       "  'Moment of Tension',\n",
       "  'Trifin Creek',\n",
       "  'Forgotten Realms Campaign Guide',\n",
       "  'Businessman',\n",
       "  'Arvin',\n",
       "  'Iron Lord',\n",
       "  'Lillybot']}"
      ]
     },
     "execution_count": 7,
     "metadata": {},
     "output_type": "execute_result"
    }
   ],
   "source": [
    "converted[0]"
   ]
  },
  {
   "cell_type": "code",
   "execution_count": 6,
   "id": "32eba533",
   "metadata": {},
   "outputs": [],
   "source": [
    "# dump mentions to json file\n",
    "with open(\"./zeshel-conv-blink.json\", \"w\", encoding=\"utf-8\") as file:\n",
    "    # read file lines\n",
    "    json.dump(converted, file)"
   ]
  },
  {
   "cell_type": "code",
   "execution_count": 106,
   "id": "f61a6d42-d8a7-48a4-a787-d1b442600c84",
   "metadata": {},
   "outputs": [
    {
     "name": "stdout",
     "output_type": "stream",
     "text": [
      "oggi [Milano] lavoro\t-->\t1) gianfranco;\t2) dobby\n",
      "domain [Roma] vacanza\t-->\t1) dobby;\t2) gianfranco\n",
      "ho visto il [cane] che abbaiava\t-->\t1) dobby;\t2) gianfranco\n"
     ]
    }
   ],
   "source": [
    "for men, ent in zip(mentions, best_100_entities):\n",
    "    ent_rank = ';\\t'.join([str(i+1)+') '+e['title'] for i,e in enumerate(ent)])\n",
    "    print('{} [{}] {}\\t-->\\t{}'.format(men['context_left'], men['mention'], men['context_right'], ent_rank))"
   ]
  }
 ],
 "metadata": {
  "kernelspec": {
   "display_name": "Python 3",
   "language": "python",
   "name": "python3"
  },
  "language_info": {
   "codemirror_mode": {
    "name": "ipython",
    "version": 3
   },
   "file_extension": ".py",
   "mimetype": "text/x-python",
   "name": "python",
   "nbconvert_exporter": "python",
   "pygments_lexer": "ipython3",
   "version": "3.10.12"
  }
 },
 "nbformat": 4,
 "nbformat_minor": 5
}

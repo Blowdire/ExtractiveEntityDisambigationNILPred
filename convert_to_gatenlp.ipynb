{
 "cells": [
  {
   "cell_type": "code",
   "execution_count": 10,
   "metadata": {},
   "outputs": [
    {
     "name": "stderr",
     "output_type": "stream",
     "text": [
      "100%|██████████| 10000/10000 [00:00<00:00, 37894.85it/s]"
     ]
    },
    {
     "name": "stdout",
     "output_type": "stream",
     "text": [
      "10000\n"
     ]
    },
    {
     "name": "stderr",
     "output_type": "stream",
     "text": [
      "\n"
     ]
    }
   ],
   "source": [
    "import gatenlp\n",
    "from tqdm import tqdm\n",
    "def convert_to_gatenlp_doc(data):\n",
    "    # Create a GATE document\n",
    "    doc = gatenlp.Document()\n",
    "    doc.text = data[\"input\"].replace(\"[START_ENT]\", \"\").replace(\"[END_ENT]\", \"\")\n",
    "    # add \"gold\" annotation set\n",
    "    annset = doc.annset(\"gold\")\n",
    "    #find start and end index\n",
    "    start = doc.text.find(data[\"meta\"][\"mention\"])\n",
    "    end = start + len(data[\"meta\"][\"mention\"])\n",
    "\n",
    "    # add \"mention\" annotation with linking features\n",
    "\n",
    "\n",
    "\n",
    "\n",
    "    ann = annset.add(start=start, end=end, anntype=\"MISC\", features=[])\n",
    "    \n",
    "\n",
    "\n",
    "    return doc\n",
    "\n",
    "# Your dataset\n",
    "dataset = {\n",
    "    \"id\": 0,\n",
    "    \"input\": \"[START_ENT] Bandar Seri Begawan [END_ENT] 11 15 AFP ...\",\n",
    "    \"output\": [\n",
    "        {\n",
    "            \"answer\": \"Bandar Seri Begawan\",\n",
    "            \"provenance\": [{\"title\": \"Bandar Seri Begawan\"}]\n",
    "        }\n",
    "    ],\n",
    "    \"meta\": {\n",
    "        \"left_context\": \"\",\n",
    "        \"right_context\": \"11 15 AFP The United States today Wednesday deemed ...\",\n",
    "        \"mention\": \"Bandar Seri Begawan\"\n",
    "    },\n",
    "    \"candidates\": [\"Bandar Seri Begawan\", \"Brunei International Airport\"]\n",
    "}\n",
    "\n",
    "#read jsonl file\n",
    "import json\n",
    "\n",
    "with open('./zeshel-conv.json') as f:\n",
    "    data = json.load(f)\n",
    "  \n",
    "gatenlp_docs=[]\n",
    "for item in tqdm(data):\n",
    "    gatenlp_docs.append(convert_to_gatenlp_doc(item))\n",
    "\n",
    "# Print the GATE document\n",
    "print(len(gatenlp_docs))\n",
    "#dump to jsonl file\n",
    "\n",
    "# with open('ace2004-test-kilt.gatenlp.jsonl', 'w') as outfile:\n",
    "#     for entry in tqdm(gatenlp_docs):\n",
    "       \n",
    "\n",
    "#         outfile.write(json.dumps(entry.to_dict())+\"\\n\")\n"
   ]
  },
  {
   "cell_type": "code",
   "execution_count": 2,
   "metadata": {},
   "outputs": [
    {
     "name": "stdout",
     "output_type": "stream",
     "text": [
      "{'annotation_sets': {'gold': {'name': 'gold', 'annotations': [{'type': 'MISC', 'start': 8, 'end': 13, 'id': 0, 'features': {}}], 'next_annid': 1}}, 'text': 'Soccer  Japan  Get Lucky Win China In Surprise Defeat Nadim Ladki Al Ain United Arab Emirates 1996 12 06 Japan began the defence of their Asian Cup title with a lucky 2 1 win against Syria in a Group C championship match on Friday But China saw their luck desert them in the second match of the group crashing to a surprise 2 0 defeat to newcomers Uzbekistan China controlled most of the match and saw several chances missed until the 78th minute when Uzbek striker Igor Shkvyrin took advantage of a misdirected defensive header to lob the ball over the advancing', 'features': {}, 'offset_type': 'p', 'name': ''}\n"
     ]
    }
   ],
   "source": [
    "import joblib\n",
    "\n",
    "ds = joblib.load(\"./Datasets/Base/aida-gatenlp.pkl\")\n",
    "print(ds[0].to_dict())"
   ]
  },
  {
   "cell_type": "code",
   "execution_count": 2,
   "metadata": {},
   "outputs": [],
   "source": [
    "import requests\n",
    "\n",
    "api_biencoder = 'http://localhost:20980/api/blink/biencoder/mention/doc'\n",
    "api_indexer = 'http://localhost:20982/api/indexer/search/doc/10'\n",
    "\n",
    "from requests.auth import HTTPBasicAuth\n",
    "auth = HTTPBasicAuth('DS2023', 'eexeegheichai3OhChi5AhcheecaaShe')"
   ]
  },
  {
   "cell_type": "code",
   "execution_count": null,
   "metadata": {},
   "outputs": [],
   "source": [
    "# help functions\n",
    "\n",
    "import numpy as np\n",
    "import base64\n",
    "\n",
    "def vector_encode(v):\n",
    "    s = base64.b64encode(v).decode()\n",
    "    return s\n",
    "\n",
    "def vector_decode(s, dtype=np.float32):\n",
    "    buffer = base64.b64decode(s)\n",
    "    v = np.frombuffer(buffer, dtype=dtype)\n",
    "    return v"
   ]
  },
  {
   "cell_type": "code",
   "execution_count": 17,
   "metadata": {},
   "outputs": [
    {
     "data": {
      "text/plain": [
       "{'annotation_sets': {'gold': {'name': 'gold',\n",
       "   'annotations': [{'type': 'mention',\n",
       "     'start': 1,\n",
       "     'end': 20,\n",
       "     'id': 0,\n",
       "     'features': {}}],\n",
       "   'next_annid': 1}},\n",
       " 'text': ' Bandar Seri Begawan  11 15 AFP The United States today Wednesday deemed the order issued by Palestinian President Yasser Arafat for a ceasefire in territories under Palestinian Authority control as a positive gesture but considered that it does not release constitute a release form the terms of the Sharm el Sheikh agreement James Stewart the White House s spokesman in Bandar Seri Begawan the capital of the Sultanate of Brunei which American President Bill Clinton is visiting said of course we positively welcome the announcement aimed at stopping the violence But the important point is that Palestinian and Israeli officials take the right',\n",
       " 'features': {},\n",
       " 'offset_type': 'p',\n",
       " 'name': ''}"
      ]
     },
     "execution_count": 17,
     "metadata": {},
     "output_type": "execute_result"
    }
   ],
   "source": [
    "gatenlp_docs[0].to_dict()"
   ]
  },
  {
   "cell_type": "code",
   "execution_count": 35,
   "metadata": {},
   "outputs": [
    {
     "data": {
      "text/html": [
       "<div><style>#VEXUSVQRJU-wrapper { color: black !important; }</style>\n",
       "<div id=\"VEXUSVQRJU-wrapper\">\n",
       "\n",
       "<div>\n",
       "<style>\n",
       "#VEXUSVQRJU-content {\n",
       "    width: 100%;\n",
       "    height: 100%;\n",
       "    font-family: -apple-system, BlinkMacSystemFont, 'Segoe UI', Roboto, Oxygen, Ubuntu, Cantarell, 'Open Sans', 'Helvetica Neue', sans-serif;\n",
       "}\n",
       "\n",
       ".VEXUSVQRJU-row {\n",
       "    width: 100%;\n",
       "    display: flex;\n",
       "    flex-direction: row;\n",
       "    flex-wrap: nowrap;\n",
       "}\n",
       "\n",
       ".VEXUSVQRJU-col {\n",
       "    border: 1px solid grey;\n",
       "    display: inline-block;\n",
       "    min-width: 200px;\n",
       "    padding: 5px;\n",
       "    /* white-space: normal; */\n",
       "    /* white-space: pre-wrap; */\n",
       "    overflow-y: auto;\n",
       "}\n",
       "\n",
       ".VEXUSVQRJU-hdr {\n",
       "    font-size: 1.2rem;\n",
       "    font-weight: bold;\n",
       "}\n",
       "\n",
       ".VEXUSVQRJU-label {\n",
       "    margin-bottom: -15px;\n",
       "    display: block;\n",
       "}\n",
       "\n",
       ".VEXUSVQRJU-input {\n",
       "    vertical-align: middle;\n",
       "    position: relative;\n",
       "    *overflow: hidden;\n",
       "}\n",
       "\n",
       "#VEXUSVQRJU-popup {\n",
       "    display: none;\n",
       "    color: black;\n",
       "    position: absolute;\n",
       "    margin-top: 10%;\n",
       "    margin-left: 10%;\n",
       "    background: #aaaaaa;\n",
       "    width: 60%;\n",
       "    height: 60%;\n",
       "    z-index: 50;\n",
       "    padding: 25px 25px 25px;\n",
       "    border: 1px solid black;\n",
       "    overflow: auto;\n",
       "}\n",
       "\n",
       ".VEXUSVQRJU-selection {\n",
       "    margin-bottom: 5px;\n",
       "}\n",
       "\n",
       ".VEXUSVQRJU-featuretable {\n",
       "    margin-top: 10px;\n",
       "}\n",
       "\n",
       ".VEXUSVQRJU-fname {\n",
       "    text-align: left !important;\n",
       "    font-weight: bold;\n",
       "    margin-right: 10px;\n",
       "}\n",
       ".VEXUSVQRJU-fvalue {\n",
       "    text-align: left !important;\n",
       "}\n",
       "</style>\n",
       "  <div id=\"VEXUSVQRJU-content\">\n",
       "        <div id=\"VEXUSVQRJU-popup\" style=\"display: none;\">\n",
       "        </div>\n",
       "        <div class=\"VEXUSVQRJU-row\" id=\"VEXUSVQRJU-row1\" style=\"min-height:5em;max-height:20em; min-height:5em;\">\n",
       "            <div id=\"VEXUSVQRJU-text-wrapper\" class=\"VEXUSVQRJU-col\" style=\"width:70%;\">\n",
       "                <div class=\"VEXUSVQRJU-hdr\" id=\"VEXUSVQRJU-dochdr\"></div>\n",
       "                <div id=\"VEXUSVQRJU-text\" style=\"\">\n",
       "                </div>\n",
       "            </div>\n",
       "            <div id=\"VEXUSVQRJU-chooser\" class=\"VEXUSVQRJU-col\" style=\"width:30%; border-left-width: 0px;\"></div>\n",
       "        </div>\n",
       "        <div class=\"VEXUSVQRJU-row\" id=\"VEXUSVQRJU-row2\" style=\"min-height:3em;max-height:14em; min-height: 3em;\">\n",
       "            <div id=\"VEXUSVQRJU-details\" class=\"VEXUSVQRJU-col\" style=\"width:100%; border-top-width: 0px;\">\n",
       "            </div>\n",
       "        </div>\n",
       "    </div>\n",
       "    \n",
       "    <script type=\"text/javascript\">\n",
       "    let VEXUSVQRJU_data = {\"annotation_sets\": {\"gold\": {\"name\": \"detached-from:entities_merged\", \"annotations\": [{\"type\": \"MISC\", \"start\": 35, \"end\": 48, \"id\": 0, \"features\": {}}], \"next_annid\": 1}, \"entities_merged\": {\"name\": \"detached-from:entities_merged\", \"annotations\": [{\"type\": \"MISC\", \"start\": 35, \"end\": 48, \"id\": 0, \"features\": {\"linking\": {\"encoding\": \"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\", \"source\": \"blink_biencoder\"}}}], \"next_annid\": 1}}, \"text\": \"Bandar Seri Begawan 11 15 AFP The  United States  today Wednesday deemed the order issued by Palestinian President Yasser Arafat for a ceasefire in territories under Palestinian Authority control as a positive gesture but considered that it does not release constitute a release form the terms of the Sharm el Sheikh agreement James Stewart the White House s spokesman in Bandar Seri Begawan the capital of the Sultanate of Brunei which American President Bill Clinton is visiting said of course we positively welcome the announcement aimed at stopping the violence But the important point is that Palestinian and Israeli officials take the right steps to provide a safer climate\", \"features\": {\"pipeline\": [\"biencoder\"]}, \"offset_type\": \"j\", \"name\": \"\"} ; \n",
       "    let VEXUSVQRJU_parms = {\"presel_set\": [], \"presel_list\": [], \"cols4types\": {}} ;\n",
       "    new gatenlpDocView(new gatenlpDocRep(VEXUSVQRJU_data, VEXUSVQRJU_parms), \"VEXUSVQRJU-\").init();\n",
       "    </script>\n",
       "  </div>\n",
       "\n",
       "</div></div>"
      ],
      "text/plain": [
       "Document(Bandar Seri Begawan 11 15 AFP The  United States  today Wednesday deemed the order issued by Palestinian President Yasser Arafat for a ceasefire in territories under Palestinian Authority control as a positive gesture but considered that it does not release constitute a release form the terms of the Sharm el Sheikh agreement James Stewart the White House s spokesman in Bandar Seri Begawan the capital of the Sultanate of Brunei which American President Bill Clinton is visiting said of course we positively welcome the announcement aimed at stopping the violence But the important point is that Palestinian and Israeli officials take the right steps to provide a safer climate,features=Features({'pipeline': ['biencoder']}),anns={'gold': AnnotationSet([Annotation(35,48,MISC,features=Features({}),id=0)]), 'entities_merged': AnnotationSet([Annotation(35,48,MISC,features=Features({'linking': {'encoding': '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', 'source': 'blink_biencoder'}}),id=0)])})"
      ]
     },
     "execution_count": 35,
     "metadata": {},
     "output_type": "execute_result"
    }
   ],
   "source": [
    "gdoc_encoding"
   ]
  },
  {
   "cell_type": "code",
   "execution_count": 3,
   "metadata": {},
   "outputs": [
    {
     "name": "stderr",
     "output_type": "stream",
     "text": [
      "100%|██████████| 10000/10000 [27:01<00:00,  6.17it/s] \n"
     ]
    }
   ],
   "source": [
    "from gatenlp import Document\n",
    "\n",
    "linked_docs = []\n",
    "\n",
    "\n",
    "for item in tqdm(gatenlp_docs):\n",
    "  try:\n",
    "    # rename needed to use the API\n",
    "    gold_dict = item.to_dict()\n",
    "    gold_dict['annotation_sets']['entities_merged'] = gold_dict['annotation_sets']['gold']\n",
    "    gold_dict['annotation_sets']['entities_merged']['name'] = 'entities_merged'\n",
    "    for ann in gold_dict['annotation_sets']['entities_merged']['annotations']:\n",
    "      ann['features'] = {}\n",
    "    gold_annotations_doc = Document.from_dict(gold_dict)\n",
    "    gold_annotations_doc.features['pipeline'] = []\n",
    "    res = requests.post(api_biencoder, auth = auth, json = gold_annotations_doc.to_dict())\n",
    "    doc = res.json()\n",
    "    gdoc_encoding = Document.from_dict(doc)\n",
    "    res = requests.post(api_indexer, auth = auth, json = gdoc_encoding.to_dict())\n",
    "    doc = res.json()\n",
    "    gdoc = Document.from_dict(doc)\n",
    "    linked_docs.append(gdoc)\n",
    "  except Exception as e:\n",
    "    print(e)\n",
    "  "
   ]
  },
  {
   "cell_type": "code",
   "execution_count": 15,
   "metadata": {},
   "outputs": [
    {
     "name": "stderr",
     "output_type": "stream",
     "text": [
      "  0%|          | 1/10000 [00:31<86:50:01, 31.26s/it]\n"
     ]
    },
    {
     "ename": "KeyboardInterrupt",
     "evalue": "",
     "output_type": "error",
     "traceback": [
      "\u001b[0;31m---------------------------------------------------------------------------\u001b[0m",
      "\u001b[0;31mKeyboardInterrupt\u001b[0m                         Traceback (most recent call last)",
      "Cell \u001b[0;32mIn[15], line 5\u001b[0m\n\u001b[1;32m      3\u001b[0m candidates \u001b[38;5;241m=\u001b[39m item\u001b[38;5;241m.\u001b[39mto_dict()[\u001b[38;5;124m'\u001b[39m\u001b[38;5;124mannotation_sets\u001b[39m\u001b[38;5;124m'\u001b[39m][\u001b[38;5;124m'\u001b[39m\u001b[38;5;124mentities_merged\u001b[39m\u001b[38;5;124m'\u001b[39m][\u001b[38;5;124m'\u001b[39m\u001b[38;5;124mannotations\u001b[39m\u001b[38;5;124m'\u001b[39m][\u001b[38;5;241m0\u001b[39m][\u001b[38;5;124m'\u001b[39m\u001b[38;5;124mfeatures\u001b[39m\u001b[38;5;124m'\u001b[39m][\u001b[38;5;124m'\u001b[39m\u001b[38;5;124mlinking\u001b[39m\u001b[38;5;124m'\u001b[39m][\u001b[38;5;124m'\u001b[39m\u001b[38;5;124mcandidates\u001b[39m\u001b[38;5;124m'\u001b[39m]\n\u001b[1;32m      4\u001b[0m candidatesList \u001b[38;5;241m=\u001b[39m  [candidate[\u001b[38;5;124m'\u001b[39m\u001b[38;5;124mtitle\u001b[39m\u001b[38;5;124m'\u001b[39m] \u001b[38;5;28;01mfor\u001b[39;00m candidate \u001b[38;5;129;01min\u001b[39;00m candidates]\n\u001b[0;32m----> 5\u001b[0m data[index][\u001b[38;5;124m'\u001b[39m\u001b[38;5;124mcandidates\u001b[39m\u001b[38;5;124m'\u001b[39m] \u001b[38;5;241m=\u001b[39m \u001b[43mcandidatesList\u001b[49m\n\u001b[1;32m      7\u001b[0m \u001b[38;5;28;01mif\u001b[39;00m data[index][\u001b[38;5;124m'\u001b[39m\u001b[38;5;124moutput\u001b[39m\u001b[38;5;124m'\u001b[39m][\u001b[38;5;241m0\u001b[39m][\u001b[38;5;124m'\u001b[39m\u001b[38;5;124manswer\u001b[39m\u001b[38;5;124m'\u001b[39m] \u001b[38;5;129;01mnot\u001b[39;00m \u001b[38;5;129;01min\u001b[39;00m candidatesList:\n\u001b[1;32m      8\u001b[0m   data[index][\u001b[38;5;124m'\u001b[39m\u001b[38;5;124moutput\u001b[39m\u001b[38;5;124m'\u001b[39m][\u001b[38;5;241m0\u001b[39m][\u001b[38;5;124m'\u001b[39m\u001b[38;5;124manswer\u001b[39m\u001b[38;5;124m'\u001b[39m] \u001b[38;5;241m=\u001b[39m \u001b[38;5;124m'\u001b[39m\u001b[38;5;124mNot In Candidates\u001b[39m\u001b[38;5;124m'\u001b[39m\n",
      "Cell \u001b[0;32mIn[15], line 5\u001b[0m\n\u001b[1;32m      3\u001b[0m candidates \u001b[38;5;241m=\u001b[39m item\u001b[38;5;241m.\u001b[39mto_dict()[\u001b[38;5;124m'\u001b[39m\u001b[38;5;124mannotation_sets\u001b[39m\u001b[38;5;124m'\u001b[39m][\u001b[38;5;124m'\u001b[39m\u001b[38;5;124mentities_merged\u001b[39m\u001b[38;5;124m'\u001b[39m][\u001b[38;5;124m'\u001b[39m\u001b[38;5;124mannotations\u001b[39m\u001b[38;5;124m'\u001b[39m][\u001b[38;5;241m0\u001b[39m][\u001b[38;5;124m'\u001b[39m\u001b[38;5;124mfeatures\u001b[39m\u001b[38;5;124m'\u001b[39m][\u001b[38;5;124m'\u001b[39m\u001b[38;5;124mlinking\u001b[39m\u001b[38;5;124m'\u001b[39m][\u001b[38;5;124m'\u001b[39m\u001b[38;5;124mcandidates\u001b[39m\u001b[38;5;124m'\u001b[39m]\n\u001b[1;32m      4\u001b[0m candidatesList \u001b[38;5;241m=\u001b[39m  [candidate[\u001b[38;5;124m'\u001b[39m\u001b[38;5;124mtitle\u001b[39m\u001b[38;5;124m'\u001b[39m] \u001b[38;5;28;01mfor\u001b[39;00m candidate \u001b[38;5;129;01min\u001b[39;00m candidates]\n\u001b[0;32m----> 5\u001b[0m data[index][\u001b[38;5;124m'\u001b[39m\u001b[38;5;124mcandidates\u001b[39m\u001b[38;5;124m'\u001b[39m] \u001b[38;5;241m=\u001b[39m \u001b[43mcandidatesList\u001b[49m\n\u001b[1;32m      7\u001b[0m \u001b[38;5;28;01mif\u001b[39;00m data[index][\u001b[38;5;124m'\u001b[39m\u001b[38;5;124moutput\u001b[39m\u001b[38;5;124m'\u001b[39m][\u001b[38;5;241m0\u001b[39m][\u001b[38;5;124m'\u001b[39m\u001b[38;5;124manswer\u001b[39m\u001b[38;5;124m'\u001b[39m] \u001b[38;5;129;01mnot\u001b[39;00m \u001b[38;5;129;01min\u001b[39;00m candidatesList:\n\u001b[1;32m      8\u001b[0m   data[index][\u001b[38;5;124m'\u001b[39m\u001b[38;5;124moutput\u001b[39m\u001b[38;5;124m'\u001b[39m][\u001b[38;5;241m0\u001b[39m][\u001b[38;5;124m'\u001b[39m\u001b[38;5;124manswer\u001b[39m\u001b[38;5;124m'\u001b[39m] \u001b[38;5;241m=\u001b[39m \u001b[38;5;124m'\u001b[39m\u001b[38;5;124mNot In Candidates\u001b[39m\u001b[38;5;124m'\u001b[39m\n",
      "File \u001b[0;32m~/Library/Python/3.11/lib/python/site-packages/debugpy/_vendored/pydevd/_pydevd_bundle/pydevd_frame.py:1197\u001b[0m, in \u001b[0;36mPyDBFrame.trace_dispatch\u001b[0;34m(self, frame, event, arg)\u001b[0m\n\u001b[1;32m   1195\u001b[0m \u001b[38;5;28;01mif\u001b[39;00m is_line:\n\u001b[1;32m   1196\u001b[0m     \u001b[38;5;28mself\u001b[39m\u001b[38;5;241m.\u001b[39mset_suspend(thread, step_cmd, original_step_cmd\u001b[38;5;241m=\u001b[39minfo\u001b[38;5;241m.\u001b[39mpydev_original_step_cmd)\n\u001b[0;32m-> 1197\u001b[0m     \u001b[38;5;28;43mself\u001b[39;49m\u001b[38;5;241;43m.\u001b[39;49m\u001b[43mdo_wait_suspend\u001b[49m\u001b[43m(\u001b[49m\u001b[43mthread\u001b[49m\u001b[43m,\u001b[49m\u001b[43m \u001b[49m\u001b[43mframe\u001b[49m\u001b[43m,\u001b[49m\u001b[43m \u001b[49m\u001b[43mevent\u001b[49m\u001b[43m,\u001b[49m\u001b[43m \u001b[49m\u001b[43marg\u001b[49m\u001b[43m)\u001b[49m\n\u001b[1;32m   1198\u001b[0m \u001b[38;5;28;01melif\u001b[39;00m is_return:  \u001b[38;5;66;03m# return event\u001b[39;00m\n\u001b[1;32m   1199\u001b[0m     back \u001b[38;5;241m=\u001b[39m frame\u001b[38;5;241m.\u001b[39mf_back\n",
      "File \u001b[0;32m~/Library/Python/3.11/lib/python/site-packages/debugpy/_vendored/pydevd/_pydevd_bundle/pydevd_frame.py:165\u001b[0m, in \u001b[0;36mPyDBFrame.do_wait_suspend\u001b[0;34m(self, *args, **kwargs)\u001b[0m\n\u001b[1;32m    164\u001b[0m \u001b[38;5;28;01mdef\u001b[39;00m \u001b[38;5;21mdo_wait_suspend\u001b[39m(\u001b[38;5;28mself\u001b[39m, \u001b[38;5;241m*\u001b[39margs, \u001b[38;5;241m*\u001b[39m\u001b[38;5;241m*\u001b[39mkwargs):\n\u001b[0;32m--> 165\u001b[0m     \u001b[38;5;28;43mself\u001b[39;49m\u001b[38;5;241;43m.\u001b[39;49m\u001b[43m_args\u001b[49m\u001b[43m[\u001b[49m\u001b[38;5;241;43m0\u001b[39;49m\u001b[43m]\u001b[49m\u001b[38;5;241;43m.\u001b[39;49m\u001b[43mdo_wait_suspend\u001b[49m\u001b[43m(\u001b[49m\u001b[38;5;241;43m*\u001b[39;49m\u001b[43margs\u001b[49m\u001b[43m,\u001b[49m\u001b[43m \u001b[49m\u001b[38;5;241;43m*\u001b[39;49m\u001b[38;5;241;43m*\u001b[39;49m\u001b[43mkwargs\u001b[49m\u001b[43m)\u001b[49m\n",
      "File \u001b[0;32m~/Library/Python/3.11/lib/python/site-packages/debugpy/_vendored/pydevd/pydevd.py:2070\u001b[0m, in \u001b[0;36mPyDB.do_wait_suspend\u001b[0;34m(self, thread, frame, event, arg, exception_type)\u001b[0m\n\u001b[1;32m   2067\u001b[0m             from_this_thread\u001b[38;5;241m.\u001b[39mappend(frame_custom_thread_id)\n\u001b[1;32m   2069\u001b[0m     \u001b[38;5;28;01mwith\u001b[39;00m \u001b[38;5;28mself\u001b[39m\u001b[38;5;241m.\u001b[39m_threads_suspended_single_notification\u001b[38;5;241m.\u001b[39mnotify_thread_suspended(thread_id, thread, stop_reason):\n\u001b[0;32m-> 2070\u001b[0m         keep_suspended \u001b[38;5;241m=\u001b[39m \u001b[38;5;28;43mself\u001b[39;49m\u001b[38;5;241;43m.\u001b[39;49m\u001b[43m_do_wait_suspend\u001b[49m\u001b[43m(\u001b[49m\u001b[43mthread\u001b[49m\u001b[43m,\u001b[49m\u001b[43m \u001b[49m\u001b[43mframe\u001b[49m\u001b[43m,\u001b[49m\u001b[43m \u001b[49m\u001b[43mevent\u001b[49m\u001b[43m,\u001b[49m\u001b[43m \u001b[49m\u001b[43marg\u001b[49m\u001b[43m,\u001b[49m\u001b[43m \u001b[49m\u001b[43msuspend_type\u001b[49m\u001b[43m,\u001b[49m\u001b[43m \u001b[49m\u001b[43mfrom_this_thread\u001b[49m\u001b[43m,\u001b[49m\u001b[43m \u001b[49m\u001b[43mframes_tracker\u001b[49m\u001b[43m)\u001b[49m\n\u001b[1;32m   2072\u001b[0m frames_list \u001b[38;5;241m=\u001b[39m \u001b[38;5;28;01mNone\u001b[39;00m\n\u001b[1;32m   2074\u001b[0m \u001b[38;5;28;01mif\u001b[39;00m keep_suspended:\n\u001b[1;32m   2075\u001b[0m     \u001b[38;5;66;03m# This means that we should pause again after a set next statement.\u001b[39;00m\n",
      "File \u001b[0;32m~/Library/Python/3.11/lib/python/site-packages/debugpy/_vendored/pydevd/pydevd.py:2106\u001b[0m, in \u001b[0;36mPyDB._do_wait_suspend\u001b[0;34m(self, thread, frame, event, arg, suspend_type, from_this_thread, frames_tracker)\u001b[0m\n\u001b[1;32m   2103\u001b[0m         \u001b[38;5;28mself\u001b[39m\u001b[38;5;241m.\u001b[39m_call_input_hook()\n\u001b[1;32m   2105\u001b[0m     \u001b[38;5;28mself\u001b[39m\u001b[38;5;241m.\u001b[39mprocess_internal_commands()\n\u001b[0;32m-> 2106\u001b[0m     time\u001b[38;5;241m.\u001b[39msleep(\u001b[38;5;241m0.01\u001b[39m)\n\u001b[1;32m   2108\u001b[0m \u001b[38;5;28mself\u001b[39m\u001b[38;5;241m.\u001b[39mcancel_async_evaluation(get_current_thread_id(thread), \u001b[38;5;28mstr\u001b[39m(\u001b[38;5;28mid\u001b[39m(frame)))\n\u001b[1;32m   2110\u001b[0m \u001b[38;5;66;03m# process any stepping instructions\u001b[39;00m\n",
      "\u001b[0;31mKeyboardInterrupt\u001b[0m: "
     ]
    }
   ],
   "source": [
    "index = 0\n",
    "for item in tqdm(linked_docs):\n",
    "  candidates = item.to_dict()['annotation_sets']['entities_merged']['annotations'][0]['features']['linking']['candidates']\n",
    "  candidatesList =  [candidate['title'] for candidate in candidates]\n",
    "  data[index]['candidates'] = candidatesList\n",
    "\n",
    "  if data[index]['output'][0]['answer'] not in candidatesList:\n",
    "    data[index]['output'][0]['answer'] = 'Not In Candidates'\n",
    "  index += 1"
   ]
  },
  {
   "cell_type": "code",
   "execution_count": 12,
   "metadata": {},
   "outputs": [
    {
     "name": "stderr",
     "output_type": "stream",
     "text": [
      "100%|██████████| 10000/10000 [00:00<00:00, 10632.20it/s]\n"
     ]
    }
   ],
   "source": [
    "#dump to jsonl file updated data \n",
    "with open('./zeshel-blink.jsonl', 'w') as outfile:\n",
    "    for entry in tqdm(data):\n",
    "        outfile.write(json.dumps(entry)+\"\\n\")"
   ]
  },
  {
   "cell_type": "code",
   "execution_count": 41,
   "metadata": {},
   "outputs": [
    {
     "data": {
      "text/plain": [
       "[{'raw_score': 325.1113586425781,\n",
       "  'id': 783851,\n",
       "  'wikipedia_id': 3434750,\n",
       "  'wikidata_qid': None,\n",
       "  'redirects_to': None,\n",
       "  'title': 'United States',\n",
       "  'url': 'https://en.wikipedia.org/wiki?curid=3434750',\n",
       "  'type_': None,\n",
       "  'indexer': 0,\n",
       "  'score': 81.96341705322266,\n",
       "  'norm_score': 0.5423622485900884},\n",
       " {'raw_score': 334.17315673828125,\n",
       "  'id': 15763,\n",
       "  'wikipedia_id': 31769,\n",
       "  'wikidata_qid': None,\n",
       "  'redirects_to': None,\n",
       "  'title': 'United Nations',\n",
       "  'url': 'https://en.wikipedia.org/wiki?curid=31769',\n",
       "  'type_': None,\n",
       "  'indexer': 0,\n",
       "  'score': 77.43250274658203,\n",
       "  'norm_score': 0.46290169663524444},\n",
       " {'raw_score': 334.7706298828125,\n",
       "  'id': 3155783,\n",
       "  'wikipedia_id': 27552742,\n",
       "  'wikidata_qid': None,\n",
       "  'redirects_to': None,\n",
       "  'title': 'Law of the United States',\n",
       "  'url': 'https://en.wikipedia.org/wiki?curid=27552742',\n",
       "  'type_': None,\n",
       "  'indexer': 0,\n",
       "  'score': 77.1337661743164,\n",
       "  'norm_score': 0.5066513418138748},\n",
       " {'raw_score': 334.77203369140625,\n",
       "  'id': 197788,\n",
       "  'wikipedia_id': 482934,\n",
       "  'wikidata_qid': None,\n",
       "  'redirects_to': None,\n",
       "  'title': 'United State',\n",
       "  'url': 'https://en.wikipedia.org/wiki?curid=482934',\n",
       "  'type_': None,\n",
       "  'indexer': 0,\n",
       "  'score': 77.13307189941406,\n",
       "  'norm_score': 0.5823110411771378},\n",
       " {'raw_score': 334.9349365234375,\n",
       "  'id': 105363,\n",
       "  'wikipedia_id': 195149,\n",
       "  'wikidata_qid': None,\n",
       "  'redirects_to': None,\n",
       "  'title': 'Federal government of the United States',\n",
       "  'url': 'https://en.wikipedia.org/wiki?curid=195149',\n",
       "  'type_': None,\n",
       "  'indexer': 0,\n",
       "  'score': 77.05162048339844,\n",
       "  'norm_score': 0.49358313516510055},\n",
       " {'raw_score': 334.9486083984375,\n",
       "  'id': 190904,\n",
       "  'wikipedia_id': 461228,\n",
       "  'wikidata_qid': None,\n",
       "  'redirects_to': None,\n",
       "  'title': 'United States (disambiguation)',\n",
       "  'url': 'https://en.wikipedia.org/wiki?curid=461228',\n",
       "  'type_': None,\n",
       "  'indexer': 0,\n",
       "  'score': 77.04476928710938,\n",
       "  'norm_score': 0.5665123673538501},\n",
       " {'raw_score': 334.99053955078125,\n",
       "  'id': 2420009,\n",
       "  'wikipedia_id': 19792942,\n",
       "  'wikidata_qid': None,\n",
       "  'redirects_to': None,\n",
       "  'title': 'Americans',\n",
       "  'url': 'https://en.wikipedia.org/wiki?curid=19792942',\n",
       "  'type_': None,\n",
       "  'indexer': 0,\n",
       "  'score': 77.0238265991211,\n",
       "  'norm_score': 0.5091495480895417},\n",
       " {'raw_score': 335.30645751953125,\n",
       "  'id': 150748,\n",
       "  'wikipedia_id': 335057,\n",
       "  'wikidata_qid': None,\n",
       "  'redirects_to': None,\n",
       "  'title': 'United States and the United Nations',\n",
       "  'url': 'https://en.wikipedia.org/wiki?curid=335057',\n",
       "  'type_': None,\n",
       "  'indexer': 0,\n",
       "  'score': 76.8658676147461,\n",
       "  'norm_score': 0.4995934589127524},\n",
       " {'raw_score': 335.359130859375,\n",
       "  'id': 2811354,\n",
       "  'wikipedia_id': 23814321,\n",
       "  'wikidata_qid': None,\n",
       "  'redirects_to': None,\n",
       "  'title': 'Human rights in the United States',\n",
       "  'url': 'https://en.wikipedia.org/wiki?curid=23814321',\n",
       "  'type_': None,\n",
       "  'indexer': 0,\n",
       "  'score': 76.83953094482422,\n",
       "  'norm_score': 0.48868603697343765},\n",
       " {'raw_score': 335.3626403808594,\n",
       "  'id': 15758,\n",
       "  'wikipedia_id': 31756,\n",
       "  'wikidata_qid': None,\n",
       "  'redirects_to': None,\n",
       "  'title': 'United States Congress',\n",
       "  'url': 'https://en.wikipedia.org/wiki?curid=31756',\n",
       "  'type_': None,\n",
       "  'indexer': 0,\n",
       "  'score': 76.83775329589844,\n",
       "  'norm_score': 0.4658851644632293}]"
      ]
     },
     "execution_count": 41,
     "metadata": {},
     "output_type": "execute_result"
    }
   ],
   "source": [
    "gdoc.to_dict()['annotation_sets']['entities_merged']['annotations'][0]['features']['linking']['candidates']"
   ]
  }
 ],
 "metadata": {
  "kernelspec": {
   "display_name": "Python 3",
   "language": "python",
   "name": "python3"
  },
  "language_info": {
   "codemirror_mode": {
    "name": "ipython",
    "version": 3
   },
   "file_extension": ".py",
   "mimetype": "text/x-python",
   "name": "python",
   "nbconvert_exporter": "python",
   "pygments_lexer": "ipython3",
   "version": "3.10.12"
  }
 },
 "nbformat": 4,
 "nbformat_minor": 2
}

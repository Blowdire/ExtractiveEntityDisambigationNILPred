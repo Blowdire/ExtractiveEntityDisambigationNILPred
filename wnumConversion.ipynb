{
 "cells": [
  {
   "cell_type": "code",
   "execution_count": 5,
   "metadata": {},
   "outputs": [],
   "source": [
    "import os\n",
    "import json\n",
    "\n",
    "\n",
    "def load_dataset():\n",
    "    fullDS = []\n",
    "    basePath = \"./Datasets/wnum/\"\n",
    "    corpuses = os.listdir(basePath)\n",
    "\n",
    "    for corpus in corpuses:\n",
    "        print(basePath + corpus)\n",
    "        with open(basePath + corpus, \"r\", encoding=\"utf-8\") as file:\n",
    "            for line in file:\n",
    "                fullDS.append(json.loads(line))\n",
    "            \n",
    "    return fullDS"
   ]
  },
  {
   "cell_type": "code",
   "execution_count": 6,
   "metadata": {},
   "outputs": [
    {
     "name": "stdout",
     "output_type": "stream",
     "text": [
      "./Datasets/wnum/test_2.jsonl\n",
      "./Datasets/wnum/test_0.jsonl\n",
      "./Datasets/wnum/test_5.jsonl\n",
      "./Datasets/wnum/test_1.jsonl\n",
      "./Datasets/wnum/test_9.jsonl\n",
      "./Datasets/wnum/test_6.jsonl\n",
      "./Datasets/wnum/test_7.jsonl\n",
      "./Datasets/wnum/test_8.jsonl\n",
      "./Datasets/wnum/test_4.jsonl\n",
      "./Datasets/wnum/test_3.jsonl\n"
     ]
    }
   ],
   "source": [
    "ds = load_dataset()"
   ]
  },
  {
   "cell_type": "code",
   "execution_count": 12,
   "metadata": {},
   "outputs": [
    {
     "data": {
      "text/plain": [
       "{'Wikipedia_ID': 62808,\n",
       " 'Wikipedia_title': 'Soul music',\n",
       " 'Wikipedia_URL': 'http://en.wikipedia.org/wiki/Soul_(music)',\n",
       " 'left_context': ['she',\n",
       "  'was',\n",
       "  'known',\n",
       "  'for',\n",
       "  'her',\n",
       "  'distinctive',\n",
       "  'soulful',\n",
       "  'vocals',\n",
       "  'which',\n",
       "  'initially',\n",
       "  'caused',\n",
       "  'many',\n",
       "  'listeners',\n",
       "  'to',\n",
       "  'believe',\n",
       "  'she',\n",
       "  'was',\n",
       "  'african',\n",
       "  'american',\n",
       "  '.',\n",
       "  'her',\n",
       "  'success',\n",
       "  'in',\n",
       "  'r',\n",
       "  '&',\n",
       "  'b',\n",
       "  'and'],\n",
       " 'mention_as_list': ['soul'],\n",
       " 'right_context': ['and',\n",
       "  'loyalty',\n",
       "  'to',\n",
       "  'these',\n",
       "  'genres',\n",
       "  'would',\n",
       "  'earn',\n",
       "  'her',\n",
       "  'the',\n",
       "  'title',\n",
       "  'ivory',\n",
       "  'queen',\n",
       "  'of',\n",
       "  'soul',\n",
       "  '.',\n",
       "  'she',\n",
       "  'played',\n",
       "  'rhythm',\n",
       "  'guitar',\n",
       "  ',',\n",
       "  'keyboards',\n",
       "  'and',\n",
       "  'congas',\n",
       "  '.',\n",
       "  'she',\n",
       "  'also'],\n",
       " 'context_left': 'She was known for her distinctive soulful vocals which initially caused many listeners to believe she was African American . Her success in R&B and',\n",
       " 'mention': 'soul',\n",
       " 'context_right': 'and loyalty to these genres would earn her the title Ivory Queen of Soul. She played rhythm guitar , keyboards and congas . She also',\n",
       " 'y_category': ['culture',\n",
       "  'african-american culture',\n",
       "  'soul music',\n",
       "  'of the southern united states',\n",
       "  'musical improvisation',\n",
       "  'radio formats',\n",
       "  'styles',\n",
       "  'african-american music',\n",
       "  'culture of the southern united states',\n",
       "  'popular music',\n",
       "  'rhythm and blues music genres',\n",
       "  'of music',\n",
       "  'african-american history',\n",
       "  'american styles of music',\n",
       "  'american'],\n",
       " 'y_category_original': ['Soul music',\n",
       "  'African-American culture',\n",
       "  'Rhythm and blues music genres',\n",
       "  'Radio formats',\n",
       "  'African-American music',\n",
       "  'Culture of the Southern United States',\n",
       "  'African-American history',\n",
       "  'American styles of music',\n",
       "  'Musical improvisation',\n",
       "  'Popular music'],\n",
       " 'docId': 348295,\n",
       " 'label_id': 'http://leftthisyear.blogspot.com/2011/03/teena-marie-american-singer-and.html',\n",
       " 'freebaseID': 'Some(9202a8c04000641f8000000000077774)',\n",
       " 'y_wikiurl_dump': 'https://en.wikipedia.org/wiki?curid=62808',\n",
       " 'query_id': 4130617,\n",
       " 'p_formula': 0.0,\n",
       " 'p_uniform': 0.1210329732,\n",
       " 'NIL': False,\n",
       " 'freq': 1501,\n",
       " 'batch': 2}"
      ]
     },
     "execution_count": 12,
     "metadata": {},
     "output_type": "execute_result"
    }
   ],
   "source": [
    "ds[1]"
   ]
  },
  {
   "cell_type": "code",
   "execution_count": 13,
   "metadata": {},
   "outputs": [
    {
     "name": "stderr",
     "output_type": "stream",
     "text": [
      "100%|██████████| 100002/100002 [00:00<00:00, 266705.24it/s]\n"
     ]
    }
   ],
   "source": [
    "from tqdm import tqdm\n",
    "\n",
    "converted = []\n",
    "for item in tqdm(ds):\n",
    "    leftC = item[\"left_context\"]\n",
    "    rightC = item[\"right_context\"]\n",
    "    mention = item[\"mention\"]\n",
    "    n = 100\n",
    "    entSurroundedText = \" \".join(\n",
    "        leftC[max(0, len(leftC) - n) : ]\n",
    "        + [\"[START_ENT]\"]\n",
    "        + [mention]\n",
    "        + [\"[END_ENT]\"]\n",
    "        + rightC[ : len(rightC) + n]\n",
    "    )\n",
    "    output = [{'answer': item['Wikipedia_title'], }]\n",
    "    converted.append({\n",
    "        \"input\": entSurroundedText,\n",
    "        \"output\": output,\n",
    "        'isNIL' : item['NIL'],\n",
    "    })"
   ]
  },
  {
   "cell_type": "code",
   "execution_count": 15,
   "metadata": {},
   "outputs": [
    {
     "data": {
      "text/plain": [
       "{'input': '1989. neptune is similar in composition to uranus , and both have compositions which differ from those of the larger gas giants , jupiter and [START_ENT] Saturn [END_ENT] . neptunes atmosphere , while similar to jupiters and saturns in that it is composed primarily of hydrogen and helium , along with traces of hydrocarbons',\n",
       " 'output': [{'answer': 'Saturn'}],\n",
       " 'isNIL': False}"
      ]
     },
     "execution_count": 15,
     "metadata": {},
     "output_type": "execute_result"
    }
   ],
   "source": [
    "converted[0]"
   ]
  },
  {
   "cell_type": "code",
   "execution_count": 14,
   "metadata": {},
   "outputs": [],
   "source": [
    "#write to json\n",
    "with open(\"./Datasets/wnum/wnum.json\", \"w\", encoding=\"utf-8\") as file:\n",
    "    json.dump(converted, file, indent=4, ensure_ascii=False)"
   ]
  }
 ],
 "metadata": {
  "kernelspec": {
   "display_name": "Python 3",
   "language": "python",
   "name": "python3"
  },
  "language_info": {
   "codemirror_mode": {
    "name": "ipython",
    "version": 3
   },
   "file_extension": ".py",
   "mimetype": "text/x-python",
   "name": "python",
   "nbconvert_exporter": "python",
   "pygments_lexer": "ipython3",
   "version": "3.10.12"
  }
 },
 "nbformat": 4,
 "nbformat_minor": 2
}

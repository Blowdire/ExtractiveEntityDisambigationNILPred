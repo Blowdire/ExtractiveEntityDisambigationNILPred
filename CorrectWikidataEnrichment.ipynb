{
 "cells": [
  {
   "cell_type": "code",
   "execution_count": 1,
   "metadata": {},
   "outputs": [
    {
     "name": "stderr",
     "output_type": "stream",
     "text": [
      "/usr/lib/python3/dist-packages/requests/__init__.py:87: RequestsDependencyWarning: urllib3 (2.0.4) or chardet (4.0.0) doesn't match a supported version!\n",
      "  warnings.warn(\"urllib3 ({}) or chardet ({}) doesn't match a supported \"\n"
     ]
    }
   ],
   "source": [
    "import requests\n",
    "import json\n",
    "import time\n",
    "\n",
    "\n",
    "def get_wikidata_id(page_titles):\n",
    "    try:\n",
    "        url = \"https://en.wikipedia.org/w/api.php\"\n",
    "        params = {\n",
    "            \"action\": \"query\",\n",
    "            \"prop\": \"pageprops\",\n",
    "            \"ppprop\": \"wikibase_item\",\n",
    "            \"redirects\": \"1\",\n",
    "            \"format\": \"json\",\n",
    "            \"titles\": \"|\".join(page_titles),\n",
    "        }\n",
    "\n",
    "        response = requests.get(url, params=params)\n",
    "        data = response.json()\n",
    "        pages = data[\"query\"][\"pages\"]\n",
    "        wikidata_ids = {}\n",
    "        for page in pages.values():\n",
    "            wikidata_id = page.get(\"pageprops\", {}).get(\"wikibase_item\")\n",
    "            if wikidata_id:\n",
    "                wikidata_ids[page[\"title\"]] = wikidata_id\n",
    "\n",
    "        return wikidata_ids\n",
    "\n",
    "        \n",
    "    except Exception as e:\n",
    "        print(e)\n",
    "        return None\n",
    "\n",
    "\n",
    "def get_instance_of(wikidata_ids):\n",
    "    try:\n",
    "        url = \"https://query.wikidata.org/sparql\"\n",
    "        ids_string = ' '.join(f\"wd:{wikidata_id}\" for wikidata_id in wikidata_ids)\n",
    "        query = f\"\"\"\n",
    "        SELECT ?item ?instanceOfLabel WHERE {{\n",
    "            VALUES ?item {{ {ids_string} }}\n",
    "            ?item wdt:P31 ?instanceOf.\n",
    "            SERVICE wikibase:label {{ bd:serviceParam wikibase:language \"[AUTO_LANGUAGE],en\". }}\n",
    "        }}\n",
    "        \"\"\"\n",
    "        response = requests.get(url, params={\"query\": query, \"format\": \"json\"})\n",
    "        data = response.json()\n",
    "        results = data[\"results\"][\"bindings\"]\n",
    "        instances = {result[\"item\"][\"value\"].split('/')[-1]: result[\"instanceOfLabel\"][\"value\"] for result in results}\n",
    "        time.sleep(1)\n",
    "        return instances\n",
    "    except Exception as e:\n",
    "        print(e)\n",
    "        return None"
   ]
  },
  {
   "cell_type": "code",
   "execution_count": 33,
   "metadata": {},
   "outputs": [
    {
     "data": {
      "text/plain": [
       "{'Q42': 'human', 'Q76': 'human', 'Q11573': 'UCUM base unit'}"
      ]
     },
     "execution_count": 33,
     "metadata": {},
     "output_type": "execute_result"
    }
   ],
   "source": [
    "get_instance_of([\"Q42\", \"Q76\", \"Q11573\", \"Qsdf345\"])"
   ]
  },
  {
   "cell_type": "code",
   "execution_count": 69,
   "metadata": {},
   "outputs": [
    {
     "name": "stderr",
     "output_type": "stream",
     "text": [
      " 43%|████▎     | 7939/18448 [00:00<00:00, 14667.69it/s]\n"
     ]
    }
   ],
   "source": [
    "import json\n",
    "from transformers import AutoTokenizer, AutoModelForQuestionAnswering\n",
    "from tqdm import tqdm\n",
    "import multiprocessing as mp\n",
    "import joblib\n",
    "\n",
    "tokenized = []\n",
    "file_path = \"./wnum.jsonl\"\n",
    "from datasets import Dataset\n",
    "all_cands = []\n",
    "if __name__ == \"__main__\":\n",
    "    original_data_aida = []\n",
    "    with open(file_path, \"r\") as file:\n",
    "        for line in tqdm(file, total=18448):\n",
    "            # Load each line as a JSON object\n",
    "            data_line = json.loads(line)\n",
    "            answer = data_line[\"answers\"][\"text\"][0]\n",
    "            candidates = data_line[\"question\"].split(\" </ec>\")\n",
    "            candidates = [cand.replace(\"</ec>\", \"\") for cand in candidates]\n",
    "            candidates = [cand.split(\": \")[0] for cand in candidates]\n",
    "            candidates = [cand.strip() for cand in candidates]\n",
    "\n",
    "            for cand in candidates:\n",
    "                if cand not in all_cands:\n",
    "                    all_cands.append(cand)  "
   ]
  },
  {
   "cell_type": "code",
   "execution_count": null,
   "metadata": {},
   "outputs": [],
   "source": [
    "len(all_cands)\n",
    "get_wikidata_id(all_cands[:30])"
   ]
  },
  {
   "cell_type": "code",
   "execution_count": 70,
   "metadata": {},
   "outputs": [
    {
     "name": "stderr",
     "output_type": "stream",
     "text": [
      "100%|██████████| 77/77 [00:24<00:00,  3.17it/s]\n"
     ]
    }
   ],
   "source": [
    "from tqdm import tqdm\n",
    "import joblib\n",
    "\n",
    "id_mapping = {}\n",
    "\n",
    "for i in tqdm(range(0, len(all_cands), 50)):\n",
    "    \n",
    "    current_slice = None\n",
    "    if i + 50 < len(all_cands):\n",
    "        current_slice = all_cands[i : i + 50]\n",
    "    else:\n",
    "        current_slice = all_cands[i:]\n",
    "    wikidata_ids = get_wikidata_id(current_slice)\n",
    "    id_mapping.update(wikidata_ids)\n",
    "\n"
   ]
  },
  {
   "cell_type": "code",
   "execution_count": 23,
   "metadata": {},
   "outputs": [
    {
     "ename": "KeyError",
     "evalue": "'German American'",
     "output_type": "error",
     "traceback": [
      "\u001b[0;31m---------------------------------------------------------------------------\u001b[0m",
      "\u001b[0;31mKeyError\u001b[0m                                  Traceback (most recent call last)",
      "Cell \u001b[0;32mIn[23], line 1\u001b[0m\n\u001b[0;32m----> 1\u001b[0m id_mapping[\u001b[39m\"\u001b[39;49m\u001b[39mGerman American\u001b[39;49m\u001b[39m\"\u001b[39;49m]\n",
      "\u001b[0;31mKeyError\u001b[0m: 'German American'"
     ]
    }
   ],
   "source": [
    "id_mapping[\"German American\"]"
   ]
  },
  {
   "cell_type": "code",
   "execution_count": 14,
   "metadata": {},
   "outputs": [
    {
     "data": {
      "text/plain": [
       "dict_keys([0, 1, 2, 3, 4, 5, 6, 7, 8, 9, 10, 11, 12, 13, 14, 15, 16, 17, 18, 19])"
      ]
     },
     "execution_count": 14,
     "metadata": {},
     "output_type": "execute_result"
    }
   ],
   "source": [
    "id_mapping.keys()"
   ]
  },
  {
   "cell_type": "code",
   "execution_count": 71,
   "metadata": {},
   "outputs": [
    {
     "name": "stderr",
     "output_type": "stream",
     "text": [
      "100%|██████████| 48/48 [01:11<00:00,  1.50s/it]\n"
     ]
    }
   ],
   "source": [
    "instance_of_mapping = {}\n",
    "for i in tqdm(range(0, len(all_cands), 80)):\n",
    "    current_slice = None\n",
    "    if i + 80 < len(all_cands):\n",
    "        current_slice = all_cands[i : i + 80]\n",
    "    else:\n",
    "        current_slice = all_cands[i:]\n",
    "    current_slice = [id_mapping[cand] if cand in id_mapping else None for cand in current_slice]\n",
    "    instanceofs = get_instance_of(current_slice)\n",
    "    instance_of_mapping.update(instanceofs)\n",
    "    \n"
   ]
  },
  {
   "cell_type": "code",
   "execution_count": 61,
   "metadata": {},
   "outputs": [
    {
     "data": {
      "text/plain": [
       "['instanceofs.joblib']"
      ]
     },
     "execution_count": 61,
     "metadata": {},
     "output_type": "execute_result"
    }
   ],
   "source": [
    "joblib.dump(id_mapping, \"id_mapping.joblib\")\n",
    "joblib.dump(instance_of_mapping, \"instanceofs.joblib\")"
   ]
  },
  {
   "cell_type": "code",
   "execution_count": 72,
   "metadata": {},
   "outputs": [
    {
     "data": {
      "text/plain": [
       "3314"
      ]
     },
     "execution_count": 72,
     "metadata": {},
     "output_type": "execute_result"
    }
   ],
   "source": [
    "len(instance_of_mapping)"
   ]
  },
  {
   "cell_type": "code",
   "execution_count": 73,
   "metadata": {},
   "outputs": [
    {
     "name": "stderr",
     "output_type": "stream",
     "text": [
      " 43%|████▎     | 7939/18448 [00:00<00:00, 46648.62it/s]\n"
     ]
    }
   ],
   "source": [
    "# PID 1101667\n",
    "import json\n",
    "from transformers import AutoTokenizer, AutoModelForQuestionAnswering\n",
    "from tqdm import tqdm\n",
    "import multiprocessing as mp\n",
    "import joblib\n",
    "\n",
    "tokenized = []\n",
    "file_path = \"./train4.jsonl\"\n",
    "from datasets import Dataset\n",
    "\n",
    "if __name__ == \"__main__\":\n",
    "    original_data_aida = []\n",
    "    with open(file_path, \"r\") as file:\n",
    "        for line in tqdm(file, total=18448):\n",
    "            # Load each line as a JSON object\n",
    "            data_line = json.loads(line)\n",
    "            answer = data_line[\"answers\"][\"text\"][0]\n",
    "            candidates = data_line[\"question\"].split(\" </ec>\")\n",
    "            candidates = [cand.replace(\"</ec>\", \"\") for cand in candidates]\n",
    "            candidates = [cand.split(\": \")[0] for cand in candidates]\n",
    "            candidates = [cand.strip() for cand in candidates]\n",
    "            num_cand = 0\n",
    "            candidates_string = \"\"\n",
    "            filtered_cand = []\n",
    "            for cand in candidates:\n",
    "                if answer not in candidates_string or num_cand <= 10:\n",
    "                    filtered_cand.append(cand)\n",
    "\n",
    "            for can in filtered_cand:\n",
    "                instance = None\n",
    "                if can in id_mapping:\n",
    "                    id = id_mapping[can]\n",
    "                    if id in instance_of_mapping:\n",
    "                        instance = instance_of_mapping[id]\n",
    "                    else:\n",
    "                        instance = \"Unknown\"\n",
    "                else:\n",
    "                    instance = \"Unknown\"\n",
    "                candidates_string += can + f\" : instance of {instance}\" + \" </ec> \"\n",
    "            data_line[\"question\"] = candidates_string\n",
    "            data_line.pop(\"linked_ents\")\n",
    "            data_line.pop(\"most_related\")\n",
    "            original_data_aida.append(data_line)\n",
    "    with open(\"./nil_el_instanceof.jsonl\", \"w\") as file:\n",
    "        for line in original_data_aida:\n",
    "            json.dump(line, file)\n",
    "            file.write(\"\\n\")"
   ]
  },
  {
   "cell_type": "markdown",
   "metadata": {},
   "source": [
    "## Non converted"
   ]
  },
  {
   "cell_type": "code",
   "execution_count": 10,
   "metadata": {},
   "outputs": [
    {
     "name": "stderr",
     "output_type": "stream",
     "text": [
      " 10%|▉         | 9900/100002 [00:16<02:32, 589.17it/s] \n"
     ]
    }
   ],
   "source": [
    "import json\n",
    "from transformers import AutoTokenizer, AutoModelForQuestionAnswering\n",
    "from tqdm import tqdm\n",
    "import multiprocessing as mp\n",
    "import joblib\n",
    "\n",
    "tokenized = []\n",
    "file_path = \"./zeshel-conv-blink.json\"\n",
    "from datasets import Dataset\n",
    "\n",
    "all_cands = []\n",
    "if __name__ == \"__main__\":\n",
    "    original_data_aida = []\n",
    "    with open(file_path, \"r\") as file:\n",
    "        ds = json.load(file)\n",
    "        for line in tqdm(ds, total=100002):\n",
    "            # Load each line as a JSON object\n",
    "            candidates = line[\"candidates\"]\n",
    "\n",
    "            for cand in candidates:\n",
    "                if cand not in all_cands:\n",
    "                    all_cands.append(cand)"
   ]
  },
  {
   "cell_type": "code",
   "execution_count": 6,
   "metadata": {},
   "outputs": [
    {
     "data": {
      "text/plain": [
       "2506"
      ]
     },
     "execution_count": 6,
     "metadata": {},
     "output_type": "execute_result"
    }
   ],
   "source": [
    "len(all_cands)"
   ]
  },
  {
   "cell_type": "code",
   "execution_count": 11,
   "metadata": {},
   "outputs": [
    {
     "name": "stderr",
     "output_type": "stream",
     "text": [
      "100%|██████████| 789/789 [06:01<00:00,  2.19it/s]\n"
     ]
    }
   ],
   "source": [
    "from tqdm import tqdm\n",
    "import joblib\n",
    "\n",
    "id_mapping = {}\n",
    "\n",
    "for i in tqdm(range(0, len(all_cands), 50)):\n",
    "    current_slice = None\n",
    "    if i + 50 < len(all_cands):\n",
    "        current_slice = all_cands[i : i + 50]\n",
    "    else:\n",
    "        current_slice = all_cands[i:]\n",
    "    wikidata_ids = get_wikidata_id(current_slice)\n",
    "    time.sleep(0.1)\n",
    "    id_mapping.update(wikidata_ids)"
   ]
  },
  {
   "cell_type": "code",
   "execution_count": 8,
   "metadata": {},
   "outputs": [
    {
     "data": {
      "text/plain": [
       "2489"
      ]
     },
     "execution_count": 8,
     "metadata": {},
     "output_type": "execute_result"
    }
   ],
   "source": [
    "len(id_mapping)"
   ]
  },
  {
   "cell_type": "code",
   "execution_count": 12,
   "metadata": {},
   "outputs": [
    {
     "name": "stderr",
     "output_type": "stream",
     "text": [
      "  0%|          | 0/493 [00:00<?, ?it/s]"
     ]
    },
    {
     "name": "stderr",
     "output_type": "stream",
     "text": [
      "100%|██████████| 493/493 [11:24<00:00,  1.39s/it]\n"
     ]
    }
   ],
   "source": [
    "instance_of_mapping = {}\n",
    "for i in tqdm(range(0, len(all_cands), 80)):\n",
    "    current_slice = None\n",
    "    if i + 80 < len(all_cands):\n",
    "        current_slice = all_cands[i : i + 80]\n",
    "    else:\n",
    "        current_slice = all_cands[i:]\n",
    "    current_slice = [\n",
    "        id_mapping[cand] if cand in id_mapping else None for cand in current_slice\n",
    "    ]\n",
    "    try:\n",
    "        instanceofs = get_instance_of(current_slice)\n",
    "        instance_of_mapping.update(instanceofs)\n",
    "    except:\n",
    "        None"
   ]
  },
  {
   "cell_type": "code",
   "execution_count": null,
   "metadata": {},
   "outputs": [],
   "source": [
    "instance_of_mapping"
   ]
  },
  {
   "cell_type": "code",
   "execution_count": 14,
   "metadata": {},
   "outputs": [
    {
     "name": "stderr",
     "output_type": "stream",
     "text": [
      " 10%|▉         | 9900/100002 [00:00<00:00, 127609.86it/s]\n"
     ]
    }
   ],
   "source": [
    "# PID 1101667\n",
    "import json\n",
    "from transformers import AutoTokenizer, AutoModelForQuestionAnswering\n",
    "from tqdm import tqdm\n",
    "import multiprocessing as mp\n",
    "import joblib\n",
    "\n",
    "tokenized = []\n",
    "\n",
    "from datasets import Dataset\n",
    "\n",
    "if __name__ == \"__main__\":\n",
    "    original_data_aida = []\n",
    "    with open(file_path, \"r\") as file:\n",
    "        ds = json.load(file)\n",
    "        for data_line in tqdm(ds, total=100002):\n",
    "            # Load each line as a JSON object\n",
    "\n",
    "            candidates_enriched = []\n",
    "\n",
    "            for can in data_line[\"candidates\"]:\n",
    "                instance = None\n",
    "                if can in id_mapping:\n",
    "                    id = id_mapping[can]\n",
    "                    if id in instance_of_mapping:\n",
    "                        instance = instance_of_mapping[id]\n",
    "                    else:\n",
    "                        instance = \"Unknown\"\n",
    "                else:\n",
    "                    instance = \"Unknown\"\n",
    "                candidates_enriched.append(can + f\" : instance of {instance}\")\n",
    "            data_line[\"candidates\"] = candidates_enriched\n",
    "\n",
    "            original_data_aida.append(data_line)\n",
    "    with open(\"./Datasets/InstanceOf/zeshel.jsonl\", \"w\") as file:\n",
    "        for line in original_data_aida:\n",
    "            json.dump(line, file)\n",
    "            file.write(\"\\n\")"
   ]
  }
 ],
 "metadata": {
  "kernelspec": {
   "display_name": "Python 3",
   "language": "python",
   "name": "python3"
  },
  "language_info": {
   "codemirror_mode": {
    "name": "ipython",
    "version": 3
   },
   "file_extension": ".py",
   "mimetype": "text/x-python",
   "name": "python",
   "nbconvert_exporter": "python",
   "pygments_lexer": "ipython3",
   "version": "3.10.12"
  },
  "orig_nbformat": 4
 },
 "nbformat": 4,
 "nbformat_minor": 2
}

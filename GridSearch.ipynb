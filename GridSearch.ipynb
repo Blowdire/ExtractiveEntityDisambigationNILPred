{
 "cells": [
  {
   "cell_type": "code",
   "execution_count": 1,
   "id": "d01515e8-c2c5-4f7e-bcae-6d8559f41239",
   "metadata": {},
   "outputs": [],
   "source": [
    "import os\n",
    "os.environ[\"CUDA_VISIBLE_DEVICES\"] = \"0\"  # or \"0,1\""
   ]
  },
  {
   "cell_type": "code",
   "execution_count": null,
   "id": "63af2596-b907-49cc-b6c3-2190e8af746a",
   "metadata": {},
   "outputs": [],
   "source": [
    "wandb.init(project=\"tesi\", name=\"bigbird\")  # args = TrainingArguments(\n",
    "wandb.stop()"
   ]
  },
  {
   "cell_type": "code",
   "execution_count": 1,
   "id": "2de9e6eb-0958-42eb-807b-04e51fd71df9",
   "metadata": {},
   "outputs": [
    {
     "name": "stderr",
     "output_type": "stream",
     "text": [
      "/usr/lib/python3/dist-packages/requests/__init__.py:87: RequestsDependencyWarning: urllib3 (2.0.4) or chardet (4.0.0) doesn't match a supported version!\n",
      "  warnings.warn(\"urllib3 ({}) or chardet ({}) doesn't match a supported \"\n"
     ]
    }
   ],
   "source": [
    "import json\n",
    "import torch\n",
    "from transformers import AutoTokenizer, AutoModelForQuestionAnswering\n",
    "from datasets import Dataset\n",
    "tokenizer = AutoTokenizer.from_pretrained(\n",
    "    './robertaLargeNil/checkpoint-2772'\n",
    ")\n",
    "model = AutoModelForQuestionAnswering.from_pretrained('./robertaLargeNil/checkpoint-2772', return_dict=False\n",
    ").to('cuda:0')"
   ]
  },
  {
   "cell_type": "code",
   "execution_count": 2,
   "id": "d1362618-8cce-4759-8214-6f77876c33d2",
   "metadata": {},
   "outputs": [
    {
     "name": "stdout",
     "output_type": "stream",
     "text": [
      "7939\n"
     ]
    }
   ],
   "source": [
    "import json\n",
    "from transformers import AutoTokenizer, AutoModelForQuestionAnswering\n",
    "\n",
    "tokenized = []\n",
    "file_path = \"./train4.jsonl\"\n",
    "from datasets import Dataset\n",
    "\n",
    "original_data = []\n",
    "with open(file_path, \"r\") as file:\n",
    "    for line in file:\n",
    "        # Load each line as a JSON object\n",
    "        data_line = json.loads(line)\n",
    "        \n",
    "        \n",
    "        original_data.append(data_line)\n",
    "print(len(original_data))"
   ]
  },
  {
   "cell_type": "code",
   "execution_count": 3,
   "id": "8f04504f",
   "metadata": {},
   "outputs": [
    {
     "name": "stdout",
     "output_type": "stream",
     "text": [
      "18448\n"
     ]
    }
   ],
   "source": [
    "import json\n",
    "from transformers import AutoTokenizer, AutoModelForQuestionAnswering\n",
    "\n",
    "tokenized = []\n",
    "file_path = \"./aida_train_converted.jsonl\"\n",
    "from datasets import Dataset\n",
    "\n",
    "original_data_aida = []\n",
    "with open(file_path, \"r\") as file:\n",
    "    for line in file:\n",
    "        # Load each line as a JSON object\n",
    "        data_line = json.loads(line)\n",
    "        for item in data_line:\n",
    "        # additional_question = \"<additional> \"\n",
    "        # try:\n",
    "        #     for related in data_line[\"most_related\"]:\n",
    "        #         length = len(related)\n",
    "        #         if len(related) == 4:\n",
    "        #             additional_question += related[2]\n",
    "        #             additional_question += \" \"\n",
    "        # except:\n",
    "        #     None\n",
    "        # additional_question += \"</additional>\"\n",
    "        # data_line[\"context\"] += additional_question\n",
    "            original_data_aida.append(item)\n",
    "print(len(original_data_aida))"
   ]
  },
  {
   "cell_type": "code",
   "execution_count": 4,
   "id": "db6f78a2",
   "metadata": {},
   "outputs": [],
   "source": [
    "import random\n",
    "concat = original_data_aida\n",
    "dataset =original_data_aida[:int(len(original_data_aida)* 0.7)] + original_data\n"
   ]
  },
  {
   "cell_type": "markdown",
   "id": "bd3e969f",
   "metadata": {},
   "source": [
    "## Prediction and evaluation"
   ]
  },
  {
   "cell_type": "code",
   "execution_count": 5,
   "id": "f99facfa",
   "metadata": {},
   "outputs": [
    {
     "data": {
      "text/plain": [
       "'Alzenau'"
      ]
     },
     "execution_count": 5,
     "metadata": {},
     "output_type": "execute_result"
    }
   ],
   "source": [
    "def check_brackets(input_string):\n",
    "    stack = []\n",
    "    brackets = {\"(\": \")\", \"{\": \"}\", \"[\": \"]\"}\n",
    "    for char in input_string:\n",
    "        if char in brackets.keys():\n",
    "            stack.append(char)\n",
    "        elif char in brackets.values():\n",
    "            if not stack or brackets[stack.pop()] != char:\n",
    "                return False\n",
    "    return not stack\n",
    "\n",
    "\n",
    "def process_answer(answer, candidates):\n",
    "    if answer == \"Not In Candidates\":\n",
    "        return answer\n",
    "    else:\n",
    "        modified_answer = answer.split(\"</ec>\")[0]\n",
    "        modified_answer = modified_answer.split(\": instance of \")[0]\n",
    "        modified_answer = modified_answer.split(\": instance\")[0]\n",
    "        modified_answer = modified_answer.replace(\"<s>\",\"\")\n",
    "        modified_answer = modified_answer.replace(\"</ec\",\"\")\n",
    "        modified_answer = modified_answer.replace(\"</s>\",\"\")\n",
    "        modified_answer = modified_answer.replace(\"<s\", \"\")\n",
    "        modified_answer = modified_answer.replace(\"</\", \"\")\n",
    "        modified_answer = modified_answer.replace(\" ec\", \"\")\n",
    "        modified_answer = modified_answer.replace(\">\",\"\")\n",
    "        modified_answer = modified_answer.strip()\n",
    "        if not check_brackets(modified_answer):\n",
    "            modified_answer = modified_answer.replace(\"(\", \"\")\n",
    "            modified_answer = modified_answer.replace(\")\", \"\")\n",
    "        if modified_answer == \"Not In Candidates\":\n",
    "            modified_answer = \"Not In Candidates\"\n",
    "        if modified_answer == \"\":\n",
    "            modified_answer = \"Not In Candidates\"\n",
    "        if modified_answer not in candidates:\n",
    "            modified_answer = \"Not In Candidates\"\n",
    "        return modified_answer\n",
    "process_answer(\"> Alzenau </\", [\"Alzenau\"])"
   ]
  },
  {
   "cell_type": "code",
   "execution_count": 6,
   "id": "1555cdbb",
   "metadata": {},
   "outputs": [],
   "source": [
    "import gc\n",
    "import torch.nn.functional as F\n",
    "import numpy as np\n",
    "\n",
    "def entropy(p):\n",
    "    return -np.sum(p * np.log2(p))\n",
    "\n",
    "def make_prediction(data_entry, nil_prediction):\n",
    "    with torch.no_grad():\n",
    "        question = data_entry[\"context\"]\n",
    "        context = data_entry[\"question\"]\n",
    "        candidates = context.split(' </ec>')\n",
    "        context = ''\n",
    "        if nil_prediction:\n",
    "            index = 0\n",
    "            added = False\n",
    "            for item in candidates:\n",
    "                context += item + f\" </ec> \"\n",
    "                index += 1\n",
    "                if index == 1 and nil_prediction:\n",
    "                    context += \" Not In Candidates </ec> \"\n",
    "                    added = True\n",
    "            if not added and nil_prediction:\n",
    "                context = \" Not In Candidates </ec> \" + context\n",
    "       \n",
    "        input_pairs = [question, context]\n",
    "        encodings = tokenizer.encode_plus(\n",
    "            input_pairs, return_tensors=\"pt\", truncation=\"only_second\"\n",
    "        ).to(\"cuda\")\n",
    "        start_scores, end_scores = model(\n",
    "            encodings[\"input_ids\"], attention_mask=encodings[\"attention_mask\"]\n",
    "        )\n",
    "        start_scores = F.softmax(start_scores, dim=1)\n",
    "        end_scores = F.softmax(end_scores, dim=1)\n",
    "\n",
    "        startEntropy = entropy(start_scores[0].cpu().numpy())\n",
    "        endEntropy = entropy(end_scores[0].cpu().numpy())\n",
    "        # calculate mean entropy\n",
    "        meanEntropy = (startEntropy + endEntropy) / 2\n",
    "        # start_scores.to(\"cpu\")\n",
    "        # end_scores.to(\"cpu\")\n",
    "        start = torch.argmax(start_scores) # Get the most likely beginning of answer with the argmax of the score\n",
    "        end = (torch.argmax(end_scores) + 1) # Get the most likely end of answer with the argmax of the score\n",
    "        mean_score = 0\n",
    "        try:\n",
    "            mean_score = (\n",
    "                end_scores[0][end.item()] + start_scores[0][start.item()]\n",
    "            ) \n",
    "        except:\n",
    "            None\n",
    "        answer_tokens = encodings[\"input_ids\"][0, start.item() : end.item() + 1]\n",
    "        answer = \"\"\n",
    "\n",
    "        answer = process_answer(tokenizer.decode(answer_tokens), context)\n",
    "        \n",
    "        del encodings\n",
    "        del end_scores\n",
    "        del start_scores\n",
    "        del start\n",
    "        del end\n",
    "        score = float(mean_score)\n",
    "        gc.collect()\n",
    "        torch.cuda.empty_cache()\n",
    "        return {\n",
    "            \"correct\": data_entry[\"answers\"],\n",
    "            \"non_processed\": tokenizer.decode(answer_tokens),\n",
    "            \"predicted\": answer,\n",
    "            \"input_phrase\": question,\n",
    "            \"scores\": score,\n",
    "            \"candidates\": context,\n",
    "            \"entropy\": meanEntropy,\n",
    "\n",
    "        }"
   ]
  },
  {
   "cell_type": "code",
   "execution_count": 7,
   "id": "3ee371f5",
   "metadata": {},
   "outputs": [
    {
     "name": "stderr",
     "output_type": "stream",
     "text": [
      "100%|██████████| 20852/20852 [56:04<00:00,  6.20it/s] \n"
     ]
    }
   ],
   "source": [
    "from tqdm import tqdm\n",
    "import json\n",
    "import torch\n",
    "\n",
    "results = []\n",
    "\n",
    "for item in tqdm(dataset):\n",
    "    try:\n",
    "        pred = make_prediction(item, True)\n",
    "        results.append(pred)\n",
    "    except Exception as e:\n",
    "        print(e)"
   ]
  },
  {
   "cell_type": "code",
   "execution_count": 8,
   "id": "b5ba25a9",
   "metadata": {},
   "outputs": [
    {
     "name": "stderr",
     "output_type": "stream",
     "text": [
      "100%|██████████| 20852/20852 [00:00<00:00, 1476485.64it/s]\n"
     ]
    }
   ],
   "source": [
    "correct = 0\n",
    "correct_trace = []\n",
    "wrong = []\n",
    "correct_nil = 0\n",
    "wrong_nil = 0\n",
    "full_data = []\n",
    "for result in tqdm(results):\n",
    "  processed = result['predicted']\n",
    "  if processed == result['correct']['text']:\n",
    "    correct += 1\n",
    "    correct_trace.append(result)\n",
    "    if processed == 'Not In Candidates':\n",
    "        correct_nil += 1\n",
    "  \n",
    "  else:\n",
    "    if result['correct']['text'] == 'Not In Candidates':\n",
    "        wrong_nil += 1\n",
    "    wrong.append(result)\n",
    "  full_data.append(result)"
   ]
  },
  {
   "cell_type": "code",
   "execution_count": 9,
   "id": "4b573778-e2a9-47a5-bd36-03ff5ac5baac",
   "metadata": {},
   "outputs": [
    {
     "data": {
      "text/plain": [
       "['./fullDfAidaGridEntropy.dump']"
      ]
     },
     "execution_count": 9,
     "metadata": {},
     "output_type": "execute_result"
    }
   ],
   "source": [
    "import pandas as pd\n",
    "import joblib\n",
    "full_df = pd.DataFrame(results)\n",
    "joblib.dump(full_df,'./fullDfAidaGridEntropy.dump')"
   ]
  },
  {
   "cell_type": "code",
   "execution_count": 1,
   "id": "0b3bea02-c621-49e4-97f4-8af23c329c12",
   "metadata": {},
   "outputs": [],
   "source": [
    "import pandas as pd\n",
    "import joblib\n",
    "full_df = joblib.load('./fullDfAidaGrid.dump')\n"
   ]
  },
  {
   "cell_type": "code",
   "execution_count": 6,
   "id": "e7b6d823-4013-440e-82cf-de6f51cc83a2",
   "metadata": {},
   "outputs": [],
   "source": [
    "import pandas as pd\n",
    "full_df = pd.read_csv('./resultsAidaNILELTrainForGridSearch.csv')"
   ]
  },
  {
   "cell_type": "code",
   "execution_count": 22,
   "id": "b2024e5c",
   "metadata": {},
   "outputs": [
    {
     "name": "stdout",
     "output_type": "stream",
     "text": [
      "accuracy of the model is 0.0\n"
     ]
    },
    {
     "ename": "ZeroDivisionError",
     "evalue": "division by zero",
     "output_type": "error",
     "traceback": [
      "\u001b[0;31m---------------------------------------------------------------------------\u001b[0m",
      "\u001b[0;31mZeroDivisionError\u001b[0m                         Traceback (most recent call last)",
      "Cell \u001b[0;32mIn[22], line 2\u001b[0m\n\u001b[1;32m      1\u001b[0m \u001b[38;5;28mprint\u001b[39m(\u001b[38;5;124mf\u001b[39m\u001b[38;5;124m\"\u001b[39m\u001b[38;5;124maccuracy of the model is \u001b[39m\u001b[38;5;132;01m{\u001b[39;00mcorrect\u001b[38;5;241m/\u001b[39m\u001b[38;5;28mlen\u001b[39m(results)\u001b[38;5;132;01m}\u001b[39;00m\u001b[38;5;124m\"\u001b[39m)\n\u001b[0;32m----> 2\u001b[0m \u001b[38;5;28mprint\u001b[39m(\u001b[38;5;124mf\u001b[39m\u001b[38;5;124m\"\u001b[39m\u001b[38;5;124maccuracy in nil prediction is: \u001b[39m\u001b[38;5;132;01m{\u001b[39;00mcorrect_nil\u001b[38;5;241m/\u001b[39m(correct_nil\u001b[38;5;241m+\u001b[39mwrong_nil)\u001b[38;5;132;01m}\u001b[39;00m\u001b[38;5;124m\"\u001b[39m)\n",
      "\u001b[0;31mZeroDivisionError\u001b[0m: division by zero"
     ]
    }
   ],
   "source": [
    "print(f\"accuracy of the model is {correct/len(results)}\")\n",
    "print(f\"accuracy in nil prediction is: {correct_nil/(correct_nil+wrong_nil)}\")"
   ]
  },
  {
   "cell_type": "markdown",
   "id": "78a2e0de-d84b-4133-a80d-6128eaafc8fd",
   "metadata": {},
   "source": [
    "## Grid Search threshold"
   ]
  },
  {
   "cell_type": "code",
   "execution_count": 8,
   "id": "fbd45c01-bb91-40b1-924c-706aa10db8ac",
   "metadata": {},
   "outputs": [
    {
     "data": {
      "text/html": [
       "<div>\n",
       "<style scoped>\n",
       "    .dataframe tbody tr th:only-of-type {\n",
       "        vertical-align: middle;\n",
       "    }\n",
       "\n",
       "    .dataframe tbody tr th {\n",
       "        vertical-align: top;\n",
       "    }\n",
       "\n",
       "    .dataframe thead th {\n",
       "        text-align: right;\n",
       "    }\n",
       "</style>\n",
       "<table border=\"1\" class=\"dataframe\">\n",
       "  <thead>\n",
       "    <tr style=\"text-align: right;\">\n",
       "      <th></th>\n",
       "      <th>Unnamed: 0</th>\n",
       "      <th>correct</th>\n",
       "      <th>non_processed</th>\n",
       "      <th>predicted</th>\n",
       "      <th>input_phrase</th>\n",
       "      <th>scores</th>\n",
       "      <th>candidates</th>\n",
       "    </tr>\n",
       "  </thead>\n",
       "  <tbody>\n",
       "    <tr>\n",
       "      <th>0</th>\n",
       "      <td>0</td>\n",
       "      <td>{'answer_start': [22], 'text': ['Germany']}</td>\n",
       "      <td>Not In Candidates &lt;/ec&gt;  Germany &lt;/ec</td>\n",
       "      <td>NIL</td>\n",
       "      <td>Eu rejects [START_ENT] German [END_ENT] call t...</td>\n",
       "      <td>0.898397</td>\n",
       "      <td>German language &lt;/ec&gt;  Not In Candidates &lt;/ec&gt;...</td>\n",
       "    </tr>\n",
       "  </tbody>\n",
       "</table>\n",
       "</div>"
      ],
      "text/plain": [
       "   Unnamed: 0                                      correct  \\\n",
       "0           0  {'answer_start': [22], 'text': ['Germany']}   \n",
       "\n",
       "                             non_processed predicted  \\\n",
       "0    Not In Candidates </ec>  Germany </ec       NIL   \n",
       "\n",
       "                                        input_phrase    scores  \\\n",
       "0  Eu rejects [START_ENT] German [END_ENT] call t...  0.898397   \n",
       "\n",
       "                                          candidates  \n",
       "0  German language </ec>  Not In Candidates </ec>...  "
      ]
     },
     "execution_count": 8,
     "metadata": {},
     "output_type": "execute_result"
    }
   ],
   "source": [
    "full_df.head(1)"
   ]
  },
  {
   "cell_type": "code",
   "execution_count": 16,
   "id": "ab384712-8756-4ae0-93b1-b6c39871a0f8",
   "metadata": {},
   "outputs": [],
   "source": [
    "import numpy as np\n",
    "from tqdm import tqdm\n",
    "parameters = np.linspace(0,1,1000)"
   ]
  },
  {
   "cell_type": "code",
   "execution_count": 11,
   "id": "398eeb40-4d2b-4bb8-b3a4-53a198427224",
   "metadata": {},
   "outputs": [
    {
     "data": {
      "text/plain": [
       "array([0.        , 0.01010101, 0.02020202, 0.03030303, 0.04040404,\n",
       "       0.05050505, 0.06060606, 0.07070707, 0.08080808, 0.09090909])"
      ]
     },
     "execution_count": 11,
     "metadata": {},
     "output_type": "execute_result"
    }
   ],
   "source": [
    "parameters[:10]"
   ]
  },
  {
   "cell_type": "code",
   "execution_count": 17,
   "id": "1b532701",
   "metadata": {},
   "outputs": [
    {
     "name": "stdout",
     "output_type": "stream",
     "text": [
      "huggingface/tokenizers: The current process just got forked, after parallelism has already been used. Disabling parallelism to avoid deadlocks...\n",
      "To disable this warning, you can either:\n",
      "\t- Avoid using `tokenizers` before the fork if possible\n",
      "\t- Explicitly set the environment variable TOKENIZERS_PARALLELISM=(true | false)\n",
      "huggingface/tokenizers: The current process just got forked, after parallelism has already been used. Disabling parallelism to avoid deadlocks...\n",
      "To disable this warning, you can either:\n",
      "\t- Avoid using `tokenizers` before the fork if possible\n",
      "\t- Explicitly set the environment variable TOKENIZERS_PARALLELISM=(true | false)\n",
      "huggingface/tokenizers: The current process just got forked, after parallelism has already been used. Disabling parallelism to avoid deadlocks...\n",
      "To disable this warning, you can either:\n",
      "\t- Avoid using `tokenizers` before the fork if possible\n",
      "\t- Explicitly set the environment variable TOKENIZERS_PARALLELISM=(true | false)\n",
      "huggingface/tokenizers: The current process just got forked, after parallelism has already been used. Disabling parallelism to avoid deadlocks...\n",
      "To disable this warning, you can either:\n",
      "\t- Avoid using `tokenizers` before the fork if possible\n",
      "\t- Explicitly set the environment variable TOKENIZERS_PARALLELISM=(true | false)\n",
      "huggingface/tokenizers: The current process just got forked, after parallelism has already been used. Disabling parallelism to avoid deadlocks...\n",
      "To disable this warning, you can either:\n",
      "\t- Avoid using `tokenizers` before the fork if possible\n",
      "\t- Explicitly set the environment variable TOKENIZERS_PARALLELISM=(true | false)\n",
      "huggingface/tokenizers: The current process just got forked, after parallelism has already been used. Disabling parallelism to avoid deadlocks...\n",
      "To disable this warning, you can either:\n",
      "\t- Avoid using `tokenizers` before the fork if possible\n",
      "\t- Explicitly set the environment variable TOKENIZERS_PARALLELISM=(true | false)\n",
      "huggingface/tokenizers: The current process just got forked, after parallelism has already been used. Disabling parallelism to avoid deadlocks...\n",
      "To disable this warning, you can either:\n",
      "\t- Avoid using `tokenizers` before the fork if possible\n",
      "\t- Explicitly set the environment variable TOKENIZERS_PARALLELISM=(true | false)\n",
      "huggingface/tokenizers: The current process just got forked, after parallelism has already been used. Disabling parallelism to avoid deadlocks...\n",
      "To disable this warning, you can either:\n",
      "\t- Avoid using `tokenizers` before the fork if possible\n",
      "\t- Explicitly set the environment variable TOKENIZERS_PARALLELISM=(true | false)\n",
      "huggingface/tokenizers: The current process just got forked, after parallelism has already been used. Disabling parallelism to avoid deadlocks...\n",
      "To disable this warning, you can either:\n",
      "\t- Avoid using `tokenizers` before the fork if possible\n",
      "\t- Explicitly set the environment variable TOKENIZERS_PARALLELISM=(true | false)\n",
      "huggingface/tokenizers: The current process just got forked, after parallelism has already been used. Disabling parallelism to avoid deadlocks...\n",
      "To disable this warning, you can either:\n",
      "\t- Avoid using `tokenizers` before the fork if possible\n",
      "\t- Explicitly set the environment variable TOKENIZERS_PARALLELISM=(true | false)\n",
      "huggingface/tokenizers: The current process just got forked, after parallelism has already been used. Disabling parallelism to avoid deadlocks...\n",
      "To disable this warning, you can either:\n",
      "\t- Avoid using `tokenizers` before the fork if possible\n",
      "\t- Explicitly set the environment variable TOKENIZERS_PARALLELISM=(true | false)\n",
      "huggingface/tokenizers: The current process just got forked, after parallelism has already been used. Disabling parallelism to avoid deadlocks...\n",
      "To disable this warning, you can either:\n",
      "\t- Avoid using `tokenizers` before the fork if possible\n",
      "\t- Explicitly set the environment variable TOKENIZERS_PARALLELISM=(true | false)\n"
     ]
    },
    {
     "name": "stderr",
     "output_type": "stream",
     "text": [
      "100%|██████████| 1000/1000 [02:08<00:00,  7.81it/s]\n"
     ]
    }
   ],
   "source": [
    "from multiprocessing import Pool\n",
    "\n",
    "\n",
    "def compute_accuracy(param):\n",
    "    totalItems = len(full_df)\n",
    "    correct = 0\n",
    "    correctNIL = 0\n",
    "    wrongNIL = 0\n",
    "    for index, item in full_df.iterrows():\n",
    "        score = item[\"entropy\"]\n",
    "        answer = item[\"correct\"][\"text\"][0]\n",
    "        predicted = item[\"predicted\"]\n",
    "        if score > param:\n",
    "            predicted = \"Not In Candidates\"\n",
    "        if answer == predicted:\n",
    "            correct += 1\n",
    "            if answer == \"Not In Candidates\":\n",
    "                correctNIL += 1\n",
    "        else:\n",
    "            if answer == \"Not In Candidates\":\n",
    "                wrongNIL += 1\n",
    "    acc = float(correct / totalItems)\n",
    "    accNIL = correctNIL / (correctNIL + wrongNIL)\n",
    "    meanAcc = (acc + accNIL) / 2\n",
    "    return meanAcc\n",
    "\n",
    "\n",
    "if __name__ == \"__main__\":\n",
    "    with Pool() as p:\n",
    "        accuracies = list(\n",
    "            tqdm(p.imap(compute_accuracy, parameters), total=len(parameters))\n",
    "        )"
   ]
  },
  {
   "cell_type": "code",
   "execution_count": 12,
   "id": "a41ba38b-2ab5-4afc-bc4d-27c1bf6c20f1",
   "metadata": {},
   "outputs": [
    {
     "name": "stderr",
     "output_type": "stream",
     "text": [
      "100%|██████████| 100/100 [01:19<00:00,  1.26it/s]\n"
     ]
    }
   ],
   "source": [
    "accuracies = []\n",
    "\n",
    "for param in tqdm(parameters):\n",
    "    totalItems = len(full_df)\n",
    "    correct = 0\n",
    "    correctNIL = 0\n",
    "    wrongNIL = 0\n",
    "    for index, item in full_df.iterrows():\n",
    "        score = item['entropy']\n",
    "        answer = item['correct']['text'][0]\n",
    "        predicted = item['predicted']\n",
    "        if score > param:\n",
    "            predicted = 'Not In Candidates'\n",
    "        if answer == predicted:\n",
    "            correct += 1\n",
    "            if answer == 'Not In Candidates':\n",
    "                correctNIL += 1\n",
    "        else:\n",
    "            if answer == 'Not In Candidates':\n",
    "                wrongNIL += 1\n",
    "    acc = float(correct/totalItems)\n",
    "    accNIL = correctNIL / (correctNIL + wrongNIL)\n",
    "    meanAcc = (acc + accNIL) / 2\n",
    "    accuracies.append(meanAcc)\n"
   ]
  },
  {
   "cell_type": "code",
   "execution_count": 13,
   "id": "4d3406ef-c673-4fbe-8f07-4907672cc8dc",
   "metadata": {},
   "outputs": [
    {
     "data": {
      "text/plain": [
       "[0.866729785814947,\n",
       " 0.8666861803410196,\n",
       " 0.8666425748670923,\n",
       " 0.8664594498582363,\n",
       " 0.8659689557076994,\n",
       " 0.8659733072642728,\n",
       " 0.8661411568710251,\n",
       " 0.8662850279625272,\n",
       " 0.8664768560845297,\n",
       " 0.8666686842065325]"
      ]
     },
     "execution_count": 13,
     "metadata": {},
     "output_type": "execute_result"
    }
   ],
   "source": [
    "accuracies[len(accuracies) -10 :]"
   ]
  },
  {
   "cell_type": "code",
   "execution_count": 19,
   "id": "3be36537-07fd-413e-8968-ec39c5b2c43c",
   "metadata": {},
   "outputs": [
    {
     "name": "stdout",
     "output_type": "stream",
     "text": [
      "The max accuracy is 0.870599479424366 with a threshold of 0.5785785785785785\n"
     ]
    }
   ],
   "source": [
    "maxAcc = max(accuracies)\n",
    "maxIndex = accuracies.index(maxAcc)\n",
    "\n",
    "print(f'The max accuracy is {maxAcc} with a threshold of {parameters[maxIndex]}')"
   ]
  },
  {
   "cell_type": "code",
   "execution_count": 20,
   "id": "b2dd274a-0758-4f73-bb0e-4eb580f21cfb",
   "metadata": {},
   "outputs": [
    {
     "data": {
      "image/png": "[encoded data removed]",
      "text/plain": [
       "<Figure size 640x480 with 1 Axes>"
      ]
     },
     "metadata": {},
     "output_type": "display_data"
    }
   ],
   "source": [
    "import matplotlib.pyplot as plt\n",
    "\n",
    "# Sample data\n",
    "x = parameters\n",
    "y = accuracies\n",
    "plt.plot(x, y)\n",
    "\n",
    "plt.xlabel('Threshold')\n",
    "plt.ylabel('Mean accuracy')\n",
    "plt.title('Line Plot of the entropy threshold grid search')\n",
    "\n",
    "plt.show()"
   ]
  },
  {
   "cell_type": "code",
   "execution_count": null,
   "id": "2c714d88-34cb-4b08-b811-d7e7a0de9659",
   "metadata": {},
   "outputs": [],
   "source": []
  }
 ],
 "metadata": {
  "kernelspec": {
   "display_name": "Python 3",
   "language": "python",
   "name": "python3"
  },
  "language_info": {
   "codemirror_mode": {
    "name": "ipython",
    "version": 3
   },
   "file_extension": ".py",
   "mimetype": "text/x-python",
   "name": "python",
   "nbconvert_exporter": "python",
   "pygments_lexer": "ipython3",
   "version": "3.10.12"
  }
 },
 "nbformat": 4,
 "nbformat_minor": 5
}
